{
  "nbformat": 4,
  "nbformat_minor": 0,
  "metadata": {
    "colab": {
      "provenance": []
    },
    "kernelspec": {
      "name": "python3",
      "display_name": "Python 3"
    },
    "language_info": {
      "name": "python"
    }
  },
  "cells": [
    {
      "cell_type": "code",
      "source": [
        "!pip install --user tensorflow\n",
        "!pip install --user keras"
      ],
      "metadata": {
        "colab": {
          "base_uri": "https://localhost:8080/"
        },
        "id": "0mm5kxpjyHWt",
        "outputId": "202edf78-91ef-49d1-c063-7e5b41a91f7c"
      },
      "execution_count": null,
      "outputs": [
        {
          "output_type": "stream",
          "name": "stdout",
          "text": [
            "Looking in indexes: https://pypi.org/simple, https://us-python.pkg.dev/colab-wheels/public/simple/\n",
            "Requirement already satisfied: tensorflow in /usr/local/lib/python3.10/dist-packages (2.12.0)\n",
            "Requirement already satisfied: absl-py>=1.0.0 in /usr/local/lib/python3.10/dist-packages (from tensorflow) (1.4.0)\n",
            "Requirement already satisfied: astunparse>=1.6.0 in /usr/local/lib/python3.10/dist-packages (from tensorflow) (1.6.3)\n",
            "Requirement already satisfied: flatbuffers>=2.0 in /usr/local/lib/python3.10/dist-packages (from tensorflow) (23.3.3)\n",
            "Requirement already satisfied: gast<=0.4.0,>=0.2.1 in /usr/local/lib/python3.10/dist-packages (from tensorflow) (0.4.0)\n",
            "Requirement already satisfied: google-pasta>=0.1.1 in /usr/local/lib/python3.10/dist-packages (from tensorflow) (0.2.0)\n",
            "Requirement already satisfied: grpcio<2.0,>=1.24.3 in /usr/local/lib/python3.10/dist-packages (from tensorflow) (1.54.0)\n",
            "Requirement already satisfied: h5py>=2.9.0 in /usr/local/lib/python3.10/dist-packages (from tensorflow) (3.8.0)\n",
            "Requirement already satisfied: jax>=0.3.15 in /usr/local/lib/python3.10/dist-packages (from tensorflow) (0.4.8)\n",
            "Requirement already satisfied: keras<2.13,>=2.12.0 in /usr/local/lib/python3.10/dist-packages (from tensorflow) (2.12.0)\n",
            "Requirement already satisfied: libclang>=13.0.0 in /usr/local/lib/python3.10/dist-packages (from tensorflow) (16.0.0)\n",
            "Requirement already satisfied: numpy<1.24,>=1.22 in /usr/local/lib/python3.10/dist-packages (from tensorflow) (1.22.4)\n",
            "Requirement already satisfied: opt-einsum>=2.3.2 in /usr/local/lib/python3.10/dist-packages (from tensorflow) (3.3.0)\n",
            "Requirement already satisfied: packaging in /usr/local/lib/python3.10/dist-packages (from tensorflow) (23.1)\n",
            "Requirement already satisfied: protobuf!=4.21.0,!=4.21.1,!=4.21.2,!=4.21.3,!=4.21.4,!=4.21.5,<5.0.0dev,>=3.20.3 in /usr/local/lib/python3.10/dist-packages (from tensorflow) (3.20.3)\n",
            "Requirement already satisfied: setuptools in /usr/local/lib/python3.10/dist-packages (from tensorflow) (67.7.2)\n",
            "Requirement already satisfied: six>=1.12.0 in /usr/local/lib/python3.10/dist-packages (from tensorflow) (1.16.0)\n",
            "Requirement already satisfied: tensorboard<2.13,>=2.12 in /usr/local/lib/python3.10/dist-packages (from tensorflow) (2.12.2)\n",
            "Requirement already satisfied: tensorflow-estimator<2.13,>=2.12.0 in /usr/local/lib/python3.10/dist-packages (from tensorflow) (2.12.0)\n",
            "Requirement already satisfied: termcolor>=1.1.0 in /usr/local/lib/python3.10/dist-packages (from tensorflow) (2.3.0)\n",
            "Requirement already satisfied: typing-extensions>=3.6.6 in /usr/local/lib/python3.10/dist-packages (from tensorflow) (4.5.0)\n",
            "Requirement already satisfied: wrapt<1.15,>=1.11.0 in /usr/local/lib/python3.10/dist-packages (from tensorflow) (1.14.1)\n",
            "Requirement already satisfied: tensorflow-io-gcs-filesystem>=0.23.1 in /usr/local/lib/python3.10/dist-packages (from tensorflow) (0.32.0)\n",
            "Requirement already satisfied: wheel<1.0,>=0.23.0 in /usr/local/lib/python3.10/dist-packages (from astunparse>=1.6.0->tensorflow) (0.40.0)\n",
            "Requirement already satisfied: ml-dtypes>=0.0.3 in /usr/local/lib/python3.10/dist-packages (from jax>=0.3.15->tensorflow) (0.1.0)\n",
            "Requirement already satisfied: scipy>=1.7 in /usr/local/lib/python3.10/dist-packages (from jax>=0.3.15->tensorflow) (1.10.1)\n",
            "Requirement already satisfied: google-auth<3,>=1.6.3 in /usr/local/lib/python3.10/dist-packages (from tensorboard<2.13,>=2.12->tensorflow) (2.17.3)\n",
            "Requirement already satisfied: google-auth-oauthlib<1.1,>=0.5 in /usr/local/lib/python3.10/dist-packages (from tensorboard<2.13,>=2.12->tensorflow) (1.0.0)\n",
            "Requirement already satisfied: markdown>=2.6.8 in /usr/local/lib/python3.10/dist-packages (from tensorboard<2.13,>=2.12->tensorflow) (3.4.3)\n",
            "Requirement already satisfied: requests<3,>=2.21.0 in /usr/local/lib/python3.10/dist-packages (from tensorboard<2.13,>=2.12->tensorflow) (2.27.1)\n",
            "Requirement already satisfied: tensorboard-data-server<0.8.0,>=0.7.0 in /usr/local/lib/python3.10/dist-packages (from tensorboard<2.13,>=2.12->tensorflow) (0.7.0)\n",
            "Requirement already satisfied: tensorboard-plugin-wit>=1.6.0 in /usr/local/lib/python3.10/dist-packages (from tensorboard<2.13,>=2.12->tensorflow) (1.8.1)\n",
            "Requirement already satisfied: werkzeug>=1.0.1 in /usr/local/lib/python3.10/dist-packages (from tensorboard<2.13,>=2.12->tensorflow) (2.3.0)\n",
            "Requirement already satisfied: cachetools<6.0,>=2.0.0 in /usr/local/lib/python3.10/dist-packages (from google-auth<3,>=1.6.3->tensorboard<2.13,>=2.12->tensorflow) (5.3.0)\n",
            "Requirement already satisfied: pyasn1-modules>=0.2.1 in /usr/local/lib/python3.10/dist-packages (from google-auth<3,>=1.6.3->tensorboard<2.13,>=2.12->tensorflow) (0.3.0)\n",
            "Requirement already satisfied: rsa<5,>=3.1.4 in /usr/local/lib/python3.10/dist-packages (from google-auth<3,>=1.6.3->tensorboard<2.13,>=2.12->tensorflow) (4.9)\n",
            "Requirement already satisfied: requests-oauthlib>=0.7.0 in /usr/local/lib/python3.10/dist-packages (from google-auth-oauthlib<1.1,>=0.5->tensorboard<2.13,>=2.12->tensorflow) (1.3.1)\n",
            "Requirement already satisfied: urllib3<1.27,>=1.21.1 in /usr/local/lib/python3.10/dist-packages (from requests<3,>=2.21.0->tensorboard<2.13,>=2.12->tensorflow) (1.26.15)\n",
            "Requirement already satisfied: certifi>=2017.4.17 in /usr/local/lib/python3.10/dist-packages (from requests<3,>=2.21.0->tensorboard<2.13,>=2.12->tensorflow) (2022.12.7)\n",
            "Requirement already satisfied: charset-normalizer~=2.0.0 in /usr/local/lib/python3.10/dist-packages (from requests<3,>=2.21.0->tensorboard<2.13,>=2.12->tensorflow) (2.0.12)\n",
            "Requirement already satisfied: idna<4,>=2.5 in /usr/local/lib/python3.10/dist-packages (from requests<3,>=2.21.0->tensorboard<2.13,>=2.12->tensorflow) (3.4)\n",
            "Requirement already satisfied: MarkupSafe>=2.1.1 in /usr/local/lib/python3.10/dist-packages (from werkzeug>=1.0.1->tensorboard<2.13,>=2.12->tensorflow) (2.1.2)\n",
            "Requirement already satisfied: pyasn1<0.6.0,>=0.4.6 in /usr/local/lib/python3.10/dist-packages (from pyasn1-modules>=0.2.1->google-auth<3,>=1.6.3->tensorboard<2.13,>=2.12->tensorflow) (0.5.0)\n",
            "Requirement already satisfied: oauthlib>=3.0.0 in /usr/local/lib/python3.10/dist-packages (from requests-oauthlib>=0.7.0->google-auth-oauthlib<1.1,>=0.5->tensorboard<2.13,>=2.12->tensorflow) (3.2.2)\n",
            "Looking in indexes: https://pypi.org/simple, https://us-python.pkg.dev/colab-wheels/public/simple/\n",
            "Requirement already satisfied: keras in /usr/local/lib/python3.10/dist-packages (2.12.0)\n"
          ]
        }
      ]
    },
    {
      "cell_type": "code",
      "execution_count": null,
      "metadata": {
        "id": "od98BgLOvkgj"
      },
      "outputs": [],
      "source": [
        "from tensorflow.python.keras.models import Sequential\n",
        "from tensorflow.python.keras.layers import Dense, GRU, Embedding, CuDNNGRU\n",
        "from tensorflow.python.keras.optimizer_v2 import adam as adam_v2\n",
        "from keras.preprocessing.text import Tokenizer\n",
        "from keras.utils import pad_sequences"
      ]
    },
    {
      "cell_type": "code",
      "source": [
        "import numpy as np\n",
        "import pandas as pd"
      ],
      "metadata": {
        "id": "BZvp2VtNxooo"
      },
      "execution_count": null,
      "outputs": []
    },
    {
      "cell_type": "code",
      "source": [
        "from google.colab import drive\n",
        "drive.mount('/content/gdrive')"
      ],
      "metadata": {
        "colab": {
          "base_uri": "https://localhost:8080/"
        },
        "id": "zavRANoL0Us_",
        "outputId": "fe307c36-7203-453a-c94c-4c8e86c04bea"
      },
      "execution_count": null,
      "outputs": [
        {
          "output_type": "stream",
          "name": "stdout",
          "text": [
            "Drive already mounted at /content/gdrive; to attempt to forcibly remount, call drive.mount(\"/content/gdrive\", force_remount=True).\n"
          ]
        }
      ]
    },
    {
      "cell_type": "code",
      "source": [
        "%cd /content/gdrive/MyDrive/Colab Notebooks/"
      ],
      "metadata": {
        "colab": {
          "base_uri": "https://localhost:8080/"
        },
        "id": "eCi295f10oGN",
        "outputId": "423db83c-1141-4840-c6a6-1a300c7d8169"
      },
      "execution_count": null,
      "outputs": [
        {
          "output_type": "stream",
          "name": "stdout",
          "text": [
            "/content/gdrive/MyDrive/Colab Notebooks\n"
          ]
        }
      ]
    },
    {
      "cell_type": "code",
      "source": [
        "!ls"
      ],
      "metadata": {
        "colab": {
          "base_uri": "https://localhost:8080/"
        },
        "id": "vwRBP6M40sCb",
        "outputId": "33bf7f8a-ba92-4554-fce8-a5e58cfd2e4e"
      },
      "execution_count": null,
      "outputs": [
        {
          "output_type": "stream",
          "name": "stdout",
          "text": [
            "'A TALE OF TWO CITIES.txt'\n",
            " movie.csv\n",
            " NlpFinal.ipynb\n",
            " NlpVize\n",
            "'Topic models with Gensim.ipynb adlı not defterinin kopyası'\n",
            " word2vec.ipynb\n",
            " word2vec.model\n"
          ]
        }
      ]
    },
    {
      "cell_type": "code",
      "source": [
        "dataset = pd.read_csv('movie.csv')"
      ],
      "metadata": {
        "id": "OWSEEeKc0viP"
      },
      "execution_count": null,
      "outputs": []
    },
    {
      "cell_type": "code",
      "source": [
        "dataset"
      ],
      "metadata": {
        "colab": {
          "base_uri": "https://localhost:8080/",
          "height": 424
        },
        "id": "Y7aX3_P_09MO",
        "outputId": "e37a8e2f-9361-405b-e265-7517577fe8c1"
      },
      "execution_count": null,
      "outputs": [
        {
          "output_type": "execute_result",
          "data": {
            "text/plain": [
              "                                                    text  label\n",
              "0      I grew up (b. 1965) watching and loving the Th...      0\n",
              "1      When I put this movie in my DVD player, and sa...      0\n",
              "2      Why do people who do not know what a particula...      0\n",
              "3      Even though I have great interest in Biblical ...      0\n",
              "4      Im a die hard Dads Army fan and nothing will e...      1\n",
              "...                                                  ...    ...\n",
              "39995  \"Western Union\" is something of a forgotten cl...      1\n",
              "39996  This movie is an incredible piece of work. It ...      1\n",
              "39997  My wife and I watched this movie because we pl...      0\n",
              "39998  When I first watched Flatliners, I was amazed....      1\n",
              "39999  Why would this film be so good, but only gross...      1\n",
              "\n",
              "[40000 rows x 2 columns]"
            ],
            "text/html": [
              "\n",
              "  <div id=\"df-1e4dfd81-5b16-4321-acdb-591ef4bf6e9b\">\n",
              "    <div class=\"colab-df-container\">\n",
              "      <div>\n",
              "<style scoped>\n",
              "    .dataframe tbody tr th:only-of-type {\n",
              "        vertical-align: middle;\n",
              "    }\n",
              "\n",
              "    .dataframe tbody tr th {\n",
              "        vertical-align: top;\n",
              "    }\n",
              "\n",
              "    .dataframe thead th {\n",
              "        text-align: right;\n",
              "    }\n",
              "</style>\n",
              "<table border=\"1\" class=\"dataframe\">\n",
              "  <thead>\n",
              "    <tr style=\"text-align: right;\">\n",
              "      <th></th>\n",
              "      <th>text</th>\n",
              "      <th>label</th>\n",
              "    </tr>\n",
              "  </thead>\n",
              "  <tbody>\n",
              "    <tr>\n",
              "      <th>0</th>\n",
              "      <td>I grew up (b. 1965) watching and loving the Th...</td>\n",
              "      <td>0</td>\n",
              "    </tr>\n",
              "    <tr>\n",
              "      <th>1</th>\n",
              "      <td>When I put this movie in my DVD player, and sa...</td>\n",
              "      <td>0</td>\n",
              "    </tr>\n",
              "    <tr>\n",
              "      <th>2</th>\n",
              "      <td>Why do people who do not know what a particula...</td>\n",
              "      <td>0</td>\n",
              "    </tr>\n",
              "    <tr>\n",
              "      <th>3</th>\n",
              "      <td>Even though I have great interest in Biblical ...</td>\n",
              "      <td>0</td>\n",
              "    </tr>\n",
              "    <tr>\n",
              "      <th>4</th>\n",
              "      <td>Im a die hard Dads Army fan and nothing will e...</td>\n",
              "      <td>1</td>\n",
              "    </tr>\n",
              "    <tr>\n",
              "      <th>...</th>\n",
              "      <td>...</td>\n",
              "      <td>...</td>\n",
              "    </tr>\n",
              "    <tr>\n",
              "      <th>39995</th>\n",
              "      <td>\"Western Union\" is something of a forgotten cl...</td>\n",
              "      <td>1</td>\n",
              "    </tr>\n",
              "    <tr>\n",
              "      <th>39996</th>\n",
              "      <td>This movie is an incredible piece of work. It ...</td>\n",
              "      <td>1</td>\n",
              "    </tr>\n",
              "    <tr>\n",
              "      <th>39997</th>\n",
              "      <td>My wife and I watched this movie because we pl...</td>\n",
              "      <td>0</td>\n",
              "    </tr>\n",
              "    <tr>\n",
              "      <th>39998</th>\n",
              "      <td>When I first watched Flatliners, I was amazed....</td>\n",
              "      <td>1</td>\n",
              "    </tr>\n",
              "    <tr>\n",
              "      <th>39999</th>\n",
              "      <td>Why would this film be so good, but only gross...</td>\n",
              "      <td>1</td>\n",
              "    </tr>\n",
              "  </tbody>\n",
              "</table>\n",
              "<p>40000 rows × 2 columns</p>\n",
              "</div>\n",
              "      <button class=\"colab-df-convert\" onclick=\"convertToInteractive('df-1e4dfd81-5b16-4321-acdb-591ef4bf6e9b')\"\n",
              "              title=\"Convert this dataframe to an interactive table.\"\n",
              "              style=\"display:none;\">\n",
              "        \n",
              "  <svg xmlns=\"http://www.w3.org/2000/svg\" height=\"24px\"viewBox=\"0 0 24 24\"\n",
              "       width=\"24px\">\n",
              "    <path d=\"M0 0h24v24H0V0z\" fill=\"none\"/>\n",
              "    <path d=\"M18.56 5.44l.94 2.06.94-2.06 2.06-.94-2.06-.94-.94-2.06-.94 2.06-2.06.94zm-11 1L8.5 8.5l.94-2.06 2.06-.94-2.06-.94L8.5 2.5l-.94 2.06-2.06.94zm10 10l.94 2.06.94-2.06 2.06-.94-2.06-.94-.94-2.06-.94 2.06-2.06.94z\"/><path d=\"M17.41 7.96l-1.37-1.37c-.4-.4-.92-.59-1.43-.59-.52 0-1.04.2-1.43.59L10.3 9.45l-7.72 7.72c-.78.78-.78 2.05 0 2.83L4 21.41c.39.39.9.59 1.41.59.51 0 1.02-.2 1.41-.59l7.78-7.78 2.81-2.81c.8-.78.8-2.07 0-2.86zM5.41 20L4 18.59l7.72-7.72 1.47 1.35L5.41 20z\"/>\n",
              "  </svg>\n",
              "      </button>\n",
              "      \n",
              "  <style>\n",
              "    .colab-df-container {\n",
              "      display:flex;\n",
              "      flex-wrap:wrap;\n",
              "      gap: 12px;\n",
              "    }\n",
              "\n",
              "    .colab-df-convert {\n",
              "      background-color: #E8F0FE;\n",
              "      border: none;\n",
              "      border-radius: 50%;\n",
              "      cursor: pointer;\n",
              "      display: none;\n",
              "      fill: #1967D2;\n",
              "      height: 32px;\n",
              "      padding: 0 0 0 0;\n",
              "      width: 32px;\n",
              "    }\n",
              "\n",
              "    .colab-df-convert:hover {\n",
              "      background-color: #E2EBFA;\n",
              "      box-shadow: 0px 1px 2px rgba(60, 64, 67, 0.3), 0px 1px 3px 1px rgba(60, 64, 67, 0.15);\n",
              "      fill: #174EA6;\n",
              "    }\n",
              "\n",
              "    [theme=dark] .colab-df-convert {\n",
              "      background-color: #3B4455;\n",
              "      fill: #D2E3FC;\n",
              "    }\n",
              "\n",
              "    [theme=dark] .colab-df-convert:hover {\n",
              "      background-color: #434B5C;\n",
              "      box-shadow: 0px 1px 3px 1px rgba(0, 0, 0, 0.15);\n",
              "      filter: drop-shadow(0px 1px 2px rgba(0, 0, 0, 0.3));\n",
              "      fill: #FFFFFF;\n",
              "    }\n",
              "  </style>\n",
              "\n",
              "      <script>\n",
              "        const buttonEl =\n",
              "          document.querySelector('#df-1e4dfd81-5b16-4321-acdb-591ef4bf6e9b button.colab-df-convert');\n",
              "        buttonEl.style.display =\n",
              "          google.colab.kernel.accessAllowed ? 'block' : 'none';\n",
              "\n",
              "        async function convertToInteractive(key) {\n",
              "          const element = document.querySelector('#df-1e4dfd81-5b16-4321-acdb-591ef4bf6e9b');\n",
              "          const dataTable =\n",
              "            await google.colab.kernel.invokeFunction('convertToInteractive',\n",
              "                                                     [key], {});\n",
              "          if (!dataTable) return;\n",
              "\n",
              "          const docLinkHtml = 'Like what you see? Visit the ' +\n",
              "            '<a target=\"_blank\" href=https://colab.research.google.com/notebooks/data_table.ipynb>data table notebook</a>'\n",
              "            + ' to learn more about interactive tables.';\n",
              "          element.innerHTML = '';\n",
              "          dataTable['output_type'] = 'display_data';\n",
              "          await google.colab.output.renderOutput(dataTable, element);\n",
              "          const docLink = document.createElement('div');\n",
              "          docLink.innerHTML = docLinkHtml;\n",
              "          element.appendChild(docLink);\n",
              "        }\n",
              "      </script>\n",
              "    </div>\n",
              "  </div>\n",
              "  "
            ]
          },
          "metadata": {},
          "execution_count": 133
        }
      ]
    },
    {
      "cell_type": "code",
      "source": [
        "target = dataset['label'].values.tolist()\n",
        "data = dataset['text'].values.tolist()"
      ],
      "metadata": {
        "id": "qobFnktu1Odu"
      },
      "execution_count": null,
      "outputs": []
    },
    {
      "cell_type": "code",
      "source": [
        "cutoff = int(len(data) * 0.80)\n",
        "x_train, x_test = data[:cutoff], data[cutoff:]\n",
        "y_train, y_test = target[:cutoff], target[cutoff:]"
      ],
      "metadata": {
        "id": "dG-MbK1f1s3H"
      },
      "execution_count": null,
      "outputs": []
    },
    {
      "cell_type": "code",
      "source": [
        "x_train[500]"
      ],
      "metadata": {
        "colab": {
          "base_uri": "https://localhost:8080/",
          "height": 105
        },
        "id": "fZMrh7SI1xbT",
        "outputId": "69df190e-bcdb-4ac9-b279-3e2171327430"
      },
      "execution_count": null,
      "outputs": [
        {
          "output_type": "execute_result",
          "data": {
            "text/plain": [
              "\"Just because an event really happened doesn't mean that it will make a good screenplay/ movie. The Cat's Meow, by Peter Bogdanovich claims to be based on actual events which happened on a cruise hosted by William Randolph Hurst. The writer paid more attention to creating a bizarre cast of characters than taking time to create a story for the bizarre characters to inhabit. The key moments of the story seem implausible; for example, when Hurst accidentally shoots the producer, believing him to be Chaplin. Basing a key element of a story on someone wearing the wrong hat is trite and contrived. The story attempts to be a dark comedy, but The Cat's Meow misses an important piece of this equation, comedy. There is also a lack of empathy for any of the characters. It hardly matters who is shot, who is killed, who is guilty and who is innocent. There is not a strong character to cheer for. As a result the conflicts are difficult to care about and the eventual outcome is incidental.\""
            ],
            "application/vnd.google.colaboratory.intrinsic+json": {
              "type": "string"
            }
          },
          "metadata": {},
          "execution_count": 136
        }
      ]
    },
    {
      "cell_type": "code",
      "source": [
        "x_train[800]"
      ],
      "metadata": {
        "colab": {
          "base_uri": "https://localhost:8080/",
          "height": 105
        },
        "id": "wn-lLlaP7if5",
        "outputId": "dd435f19-ff22-48a2-c873-b9dae5e5d7f7"
      },
      "execution_count": null,
      "outputs": [
        {
          "output_type": "execute_result",
          "data": {
            "text/plain": [
              "\"Contrary to most of the comments in this section, I have to say this film just barely escapes the definition 'rubbish!'. The only readers who seem to be aware of what a catalogue of clichés it is are those who, like me, live in the north-east and know at first hand what the area is like. I am totally sick of films that are supposed to be 'realistic', yet portray the working class (of wherever) as stupid, criminal low-lifes, but then excuse them because of their social background. And funny? I smiled briefly twice and laughed once, but that was at the incongruity of two boy actors with Sunderland accents supposedly trying to hide their Newcastle accents from Sunderland football fans! There was only one likable character in the whole film, and that was the senile grandfather played quietly but very competently by Roy Hudd -- the only non-Geordie in the cast.As for the writing -- well, I just wonder what university sociology department the author studied at. He certainly had no ear for the local accent. And I too have never heard the expression 'Purely Belter' -- and not only am I a native, I'm a linguist who's written articles on the local dialect.Don't waste your time and eyesight on this garbage. It isn't funny, it isn't realistic, it isn't entertaining, and it is fundamentally dishonest.\""
            ],
            "application/vnd.google.colaboratory.intrinsic+json": {
              "type": "string"
            }
          },
          "metadata": {},
          "execution_count": 137
        }
      ]
    },
    {
      "cell_type": "code",
      "source": [
        "y_train[800]"
      ],
      "metadata": {
        "colab": {
          "base_uri": "https://localhost:8080/"
        },
        "id": "_tYuaD-C7lVI",
        "outputId": "fae608ce-86f4-41e4-8b8b-8a3aad1286e2"
      },
      "execution_count": null,
      "outputs": [
        {
          "output_type": "execute_result",
          "data": {
            "text/plain": [
              "0"
            ]
          },
          "metadata": {},
          "execution_count": 138
        }
      ]
    },
    {
      "cell_type": "code",
      "source": [
        "num_words = 10000\n",
        "tokenizer = Tokenizer(num_words=num_words)"
      ],
      "metadata": {
        "id": "U_nYPAxL7pCr"
      },
      "execution_count": null,
      "outputs": []
    },
    {
      "cell_type": "code",
      "source": [
        "tokenizer.fit_on_texts(data)"
      ],
      "metadata": {
        "id": "kaNaKykT7rXp"
      },
      "execution_count": null,
      "outputs": []
    },
    {
      "cell_type": "code",
      "source": [
        "tokenizer.word_index"
      ],
      "metadata": {
        "colab": {
          "base_uri": "https://localhost:8080/"
        },
        "id": "-uSXbfLz77dA",
        "outputId": "fc727c73-eba5-46e6-d5ae-5a83cb4f5192"
      },
      "execution_count": null,
      "outputs": [
        {
          "output_type": "execute_result",
          "data": {
            "text/plain": [
              "{'the': 1,\n",
              " 'and': 2,\n",
              " 'a': 3,\n",
              " 'of': 4,\n",
              " 'to': 5,\n",
              " 'is': 6,\n",
              " 'in': 7,\n",
              " 'it': 8,\n",
              " 'i': 9,\n",
              " 'this': 10,\n",
              " 'that': 11,\n",
              " 'was': 12,\n",
              " 'as': 13,\n",
              " 'for': 14,\n",
              " 'movie': 15,\n",
              " 'with': 16,\n",
              " 'but': 17,\n",
              " 'film': 18,\n",
              " 'on': 19,\n",
              " 'you': 20,\n",
              " 'not': 21,\n",
              " 'are': 22,\n",
              " 'his': 23,\n",
              " 'have': 24,\n",
              " 'be': 25,\n",
              " 'one': 26,\n",
              " 'he': 27,\n",
              " 'all': 28,\n",
              " 'at': 29,\n",
              " 'by': 30,\n",
              " 'an': 31,\n",
              " 'they': 32,\n",
              " 'so': 33,\n",
              " 'who': 34,\n",
              " 'from': 35,\n",
              " 'like': 36,\n",
              " 'or': 37,\n",
              " 'just': 38,\n",
              " 'her': 39,\n",
              " 'about': 40,\n",
              " 'out': 41,\n",
              " 'if': 42,\n",
              " \"it's\": 43,\n",
              " 'has': 44,\n",
              " 'there': 45,\n",
              " 'some': 46,\n",
              " 'what': 47,\n",
              " 'good': 48,\n",
              " 'more': 49,\n",
              " 'when': 50,\n",
              " 'very': 51,\n",
              " 'up': 52,\n",
              " 'no': 53,\n",
              " 'time': 54,\n",
              " 'even': 55,\n",
              " 'my': 56,\n",
              " 'would': 57,\n",
              " 'she': 58,\n",
              " 'which': 59,\n",
              " 'only': 60,\n",
              " 'really': 61,\n",
              " 'see': 62,\n",
              " 'story': 63,\n",
              " 'their': 64,\n",
              " 'had': 65,\n",
              " 'can': 66,\n",
              " 'me': 67,\n",
              " 'were': 68,\n",
              " 'well': 69,\n",
              " 'much': 70,\n",
              " 'than': 71,\n",
              " 'we': 72,\n",
              " 'been': 73,\n",
              " 'get': 74,\n",
              " 'bad': 75,\n",
              " 'will': 76,\n",
              " 'also': 77,\n",
              " 'do': 78,\n",
              " 'other': 79,\n",
              " 'great': 80,\n",
              " 'into': 81,\n",
              " 'people': 82,\n",
              " 'because': 83,\n",
              " 'him': 84,\n",
              " 'how': 85,\n",
              " 'first': 86,\n",
              " 'most': 87,\n",
              " \"don't\": 88,\n",
              " 'them': 89,\n",
              " 'then': 90,\n",
              " 'made': 91,\n",
              " 'make': 92,\n",
              " 'its': 93,\n",
              " 'way': 94,\n",
              " 'too': 95,\n",
              " 'movies': 96,\n",
              " 'could': 97,\n",
              " 'any': 98,\n",
              " 'after': 99,\n",
              " 'think': 100,\n",
              " 'characters': 101,\n",
              " 'watch': 102,\n",
              " 'films': 103,\n",
              " 'two': 104,\n",
              " 'seen': 105,\n",
              " 'many': 106,\n",
              " 'character': 107,\n",
              " 'being': 108,\n",
              " 'love': 109,\n",
              " 'never': 110,\n",
              " 'plot': 111,\n",
              " 'acting': 112,\n",
              " 'life': 113,\n",
              " 'did': 114,\n",
              " 'where': 115,\n",
              " 'best': 116,\n",
              " 'little': 117,\n",
              " 'know': 118,\n",
              " 'show': 119,\n",
              " 'over': 120,\n",
              " 'ever': 121,\n",
              " 'off': 122,\n",
              " 'does': 123,\n",
              " 'your': 124,\n",
              " 'better': 125,\n",
              " 'end': 126,\n",
              " 'man': 127,\n",
              " 'still': 128,\n",
              " 'scene': 129,\n",
              " 'say': 130,\n",
              " 'these': 131,\n",
              " 'here': 132,\n",
              " 'why': 133,\n",
              " 'while': 134,\n",
              " 'scenes': 135,\n",
              " 'something': 136,\n",
              " 'go': 137,\n",
              " 'such': 138,\n",
              " 'back': 139,\n",
              " 'through': 140,\n",
              " 'should': 141,\n",
              " 'those': 142,\n",
              " 'real': 143,\n",
              " \"i'm\": 144,\n",
              " 'now': 145,\n",
              " 'watching': 146,\n",
              " 'thing': 147,\n",
              " \"doesn't\": 148,\n",
              " 'actors': 149,\n",
              " 'years': 150,\n",
              " 'though': 151,\n",
              " \"didn't\": 152,\n",
              " 'funny': 153,\n",
              " 'before': 154,\n",
              " 'old': 155,\n",
              " 'actually': 156,\n",
              " 'work': 157,\n",
              " 'another': 158,\n",
              " '10': 159,\n",
              " 'look': 160,\n",
              " 'makes': 161,\n",
              " 'nothing': 162,\n",
              " 'director': 163,\n",
              " 'find': 164,\n",
              " 'going': 165,\n",
              " 'same': 166,\n",
              " 'new': 167,\n",
              " 'lot': 168,\n",
              " 'every': 169,\n",
              " 'few': 170,\n",
              " 'part': 171,\n",
              " 'again': 172,\n",
              " 'down': 173,\n",
              " 'us': 174,\n",
              " 'things': 175,\n",
              " 'cast': 176,\n",
              " 'quite': 177,\n",
              " 'horror': 178,\n",
              " 'pretty': 179,\n",
              " 'want': 180,\n",
              " 'world': 181,\n",
              " 'around': 182,\n",
              " 'seems': 183,\n",
              " 'young': 184,\n",
              " \"can't\": 185,\n",
              " 'take': 186,\n",
              " 'big': 187,\n",
              " 'thought': 188,\n",
              " 'however': 189,\n",
              " 'got': 190,\n",
              " 'enough': 191,\n",
              " 'fact': 192,\n",
              " 'long': 193,\n",
              " 'give': 194,\n",
              " 'both': 195,\n",
              " \"that's\": 196,\n",
              " 'series': 197,\n",
              " \"i've\": 198,\n",
              " 'may': 199,\n",
              " 'between': 200,\n",
              " 'right': 201,\n",
              " 'music': 202,\n",
              " 'own': 203,\n",
              " 'action': 204,\n",
              " 'comedy': 205,\n",
              " 'without': 206,\n",
              " 'must': 207,\n",
              " 'always': 208,\n",
              " 'times': 209,\n",
              " \"isn't\": 210,\n",
              " 'original': 211,\n",
              " 'saw': 212,\n",
              " 'gets': 213,\n",
              " 'almost': 214,\n",
              " 'role': 215,\n",
              " 'guy': 216,\n",
              " 'come': 217,\n",
              " 'done': 218,\n",
              " 'interesting': 219,\n",
              " \"there's\": 220,\n",
              " 'point': 221,\n",
              " 'least': 222,\n",
              " 'whole': 223,\n",
              " 'bit': 224,\n",
              " 'far': 225,\n",
              " 'script': 226,\n",
              " 'feel': 227,\n",
              " 'minutes': 228,\n",
              " '2': 229,\n",
              " \"he's\": 230,\n",
              " 'might': 231,\n",
              " 'last': 232,\n",
              " 'anything': 233,\n",
              " 'making': 234,\n",
              " 'since': 235,\n",
              " 'am': 236,\n",
              " 'family': 237,\n",
              " 'probably': 238,\n",
              " 'tv': 239,\n",
              " 'kind': 240,\n",
              " 'away': 241,\n",
              " 'performance': 242,\n",
              " 'yet': 243,\n",
              " 'fun': 244,\n",
              " 'worst': 245,\n",
              " 'rather': 246,\n",
              " 'girl': 247,\n",
              " 'sure': 248,\n",
              " 'hard': 249,\n",
              " 'anyone': 250,\n",
              " 'played': 251,\n",
              " 'each': 252,\n",
              " 'found': 253,\n",
              " 'day': 254,\n",
              " 'woman': 255,\n",
              " 'especially': 256,\n",
              " 'our': 257,\n",
              " 'looking': 258,\n",
              " 'screen': 259,\n",
              " 'although': 260,\n",
              " 'believe': 261,\n",
              " 'course': 262,\n",
              " 'trying': 263,\n",
              " 'having': 264,\n",
              " 'everything': 265,\n",
              " 'comes': 266,\n",
              " 'ending': 267,\n",
              " 'set': 268,\n",
              " 'dvd': 269,\n",
              " 'goes': 270,\n",
              " 'maybe': 271,\n",
              " 'put': 272,\n",
              " 'three': 273,\n",
              " 'book': 274,\n",
              " 'shows': 275,\n",
              " 'worth': 276,\n",
              " 'place': 277,\n",
              " 'different': 278,\n",
              " 'main': 279,\n",
              " 'once': 280,\n",
              " 'sense': 281,\n",
              " 'american': 282,\n",
              " 'looks': 283,\n",
              " 'effects': 284,\n",
              " 'true': 285,\n",
              " 'watched': 286,\n",
              " 'actor': 287,\n",
              " 'reason': 288,\n",
              " 'play': 289,\n",
              " \"wasn't\": 290,\n",
              " 'money': 291,\n",
              " 'together': 292,\n",
              " 'war': 293,\n",
              " 'during': 294,\n",
              " 'job': 295,\n",
              " 'someone': 296,\n",
              " 'plays': 297,\n",
              " 'instead': 298,\n",
              " 'high': 299,\n",
              " 'said': 300,\n",
              " '1': 301,\n",
              " 'half': 302,\n",
              " 'seem': 303,\n",
              " 'year': 304,\n",
              " 'everyone': 305,\n",
              " 'takes': 306,\n",
              " 'later': 307,\n",
              " 'seeing': 308,\n",
              " 'left': 309,\n",
              " 'audience': 310,\n",
              " 'special': 311,\n",
              " 'black': 312,\n",
              " 'himself': 313,\n",
              " 'beautiful': 314,\n",
              " 'night': 315,\n",
              " 'shot': 316,\n",
              " 'john': 317,\n",
              " 'excellent': 318,\n",
              " 'idea': 319,\n",
              " 'house': 320,\n",
              " 'version': 321,\n",
              " 'star': 322,\n",
              " 'mind': 323,\n",
              " 'wife': 324,\n",
              " 'fan': 325,\n",
              " 'death': 326,\n",
              " 'used': 327,\n",
              " 'budget': 328,\n",
              " 'nice': 329,\n",
              " 'simply': 330,\n",
              " 'short': 331,\n",
              " 'poor': 332,\n",
              " 'else': 333,\n",
              " \"you're\": 334,\n",
              " 'read': 335,\n",
              " 'completely': 336,\n",
              " 'along': 337,\n",
              " 'second': 338,\n",
              " '3': 339,\n",
              " 'men': 340,\n",
              " 'top': 341,\n",
              " 'help': 342,\n",
              " 'less': 343,\n",
              " 'boring': 344,\n",
              " 'home': 345,\n",
              " 'either': 346,\n",
              " 'dead': 347,\n",
              " 'line': 348,\n",
              " 'try': 349,\n",
              " 'kids': 350,\n",
              " 'low': 351,\n",
              " 'friends': 352,\n",
              " 'given': 353,\n",
              " 'wrong': 354,\n",
              " 'full': 355,\n",
              " 'enjoy': 356,\n",
              " 'use': 357,\n",
              " 'camera': 358,\n",
              " 'stupid': 359,\n",
              " 'production': 360,\n",
              " 'classic': 361,\n",
              " 'need': 362,\n",
              " 'father': 363,\n",
              " 'performances': 364,\n",
              " 'until': 365,\n",
              " 'school': 366,\n",
              " 'rest': 367,\n",
              " 'hollywood': 368,\n",
              " 'next': 369,\n",
              " 'couple': 370,\n",
              " 'truly': 371,\n",
              " 'awful': 372,\n",
              " 'video': 373,\n",
              " 'sex': 374,\n",
              " 'start': 375,\n",
              " 'women': 376,\n",
              " 'recommend': 377,\n",
              " 'tell': 378,\n",
              " 'let': 379,\n",
              " 'mean': 380,\n",
              " 'terrible': 381,\n",
              " 'perhaps': 382,\n",
              " 'understand': 383,\n",
              " 'getting': 384,\n",
              " 'face': 385,\n",
              " 'remember': 386,\n",
              " 'came': 387,\n",
              " 'name': 388,\n",
              " 'moments': 389,\n",
              " 'small': 390,\n",
              " 'keep': 391,\n",
              " 'itself': 392,\n",
              " 'playing': 393,\n",
              " 'perfect': 394,\n",
              " 'human': 395,\n",
              " 'definitely': 396,\n",
              " 'style': 397,\n",
              " 'early': 398,\n",
              " 'episode': 399,\n",
              " 'wonderful': 400,\n",
              " 'doing': 401,\n",
              " 'person': 402,\n",
              " 'head': 403,\n",
              " 'others': 404,\n",
              " 'often': 405,\n",
              " 'written': 406,\n",
              " 'dialogue': 407,\n",
              " 'piece': 408,\n",
              " 'stars': 409,\n",
              " 'lines': 410,\n",
              " 'live': 411,\n",
              " 'gives': 412,\n",
              " 'case': 413,\n",
              " \"couldn't\": 414,\n",
              " 'loved': 415,\n",
              " 'laugh': 416,\n",
              " 'yes': 417,\n",
              " 'certainly': 418,\n",
              " 'boy': 419,\n",
              " 'finally': 420,\n",
              " 'absolutely': 421,\n",
              " 'went': 422,\n",
              " 'title': 423,\n",
              " 'lost': 424,\n",
              " 'entertaining': 425,\n",
              " 'liked': 426,\n",
              " 'sort': 427,\n",
              " 'mother': 428,\n",
              " 'worse': 429,\n",
              " 'oh': 430,\n",
              " 'felt': 431,\n",
              " 'become': 432,\n",
              " 'hope': 433,\n",
              " 'mr': 434,\n",
              " 'picture': 435,\n",
              " 'overall': 436,\n",
              " 'entire': 437,\n",
              " 'several': 438,\n",
              " 'cinema': 439,\n",
              " 'supposed': 440,\n",
              " 'based': 441,\n",
              " 'friend': 442,\n",
              " 'drama': 443,\n",
              " 'called': 444,\n",
              " 'sound': 445,\n",
              " 'waste': 446,\n",
              " 'problem': 447,\n",
              " 'white': 448,\n",
              " '5': 449,\n",
              " 'care': 450,\n",
              " 'guys': 451,\n",
              " 'beginning': 452,\n",
              " 'dark': 453,\n",
              " 'fans': 454,\n",
              " '4': 455,\n",
              " 'lead': 456,\n",
              " 'seemed': 457,\n",
              " 'humor': 458,\n",
              " 'wanted': 459,\n",
              " 'totally': 460,\n",
              " 'lives': 461,\n",
              " 'against': 462,\n",
              " \"you'll\": 463,\n",
              " \"she's\": 464,\n",
              " 'game': 465,\n",
              " 'guess': 466,\n",
              " 'despite': 467,\n",
              " 'direction': 468,\n",
              " 'under': 469,\n",
              " 'throughout': 470,\n",
              " 'final': 471,\n",
              " 'example': 472,\n",
              " 'already': 473,\n",
              " 'evil': 474,\n",
              " 'becomes': 475,\n",
              " 'children': 476,\n",
              " 'unfortunately': 477,\n",
              " \"i'd\": 478,\n",
              " 'able': 479,\n",
              " 'turn': 480,\n",
              " 'quality': 481,\n",
              " 'days': 482,\n",
              " 'wants': 483,\n",
              " 'history': 484,\n",
              " 'writing': 485,\n",
              " 'side': 486,\n",
              " 'amazing': 487,\n",
              " 'fine': 488,\n",
              " 'heart': 489,\n",
              " 'flick': 490,\n",
              " 'horrible': 491,\n",
              " 'michael': 492,\n",
              " \"they're\": 493,\n",
              " 'matter': 494,\n",
              " 'son': 495,\n",
              " 'killer': 496,\n",
              " 'b': 497,\n",
              " 'etc': 498,\n",
              " 'run': 499,\n",
              " 'close': 500,\n",
              " \"won't\": 501,\n",
              " 'act': 502,\n",
              " 'kill': 503,\n",
              " 'turns': 504,\n",
              " 'works': 505,\n",
              " 'behind': 506,\n",
              " 'art': 507,\n",
              " 'tries': 508,\n",
              " 'stuff': 509,\n",
              " 'brilliant': 510,\n",
              " 'late': 511,\n",
              " 'parts': 512,\n",
              " 'town': 513,\n",
              " 'gave': 514,\n",
              " 'enjoyed': 515,\n",
              " 'genre': 516,\n",
              " 'past': 517,\n",
              " 'expect': 518,\n",
              " 'eyes': 519,\n",
              " 'directed': 520,\n",
              " 'obviously': 521,\n",
              " 'soon': 522,\n",
              " 'hand': 523,\n",
              " 'favorite': 524,\n",
              " '\\x96': 525,\n",
              " 'car': 526,\n",
              " 'highly': 527,\n",
              " 'hour': 528,\n",
              " 'themselves': 529,\n",
              " 'myself': 530,\n",
              " 'stop': 531,\n",
              " 'god': 532,\n",
              " 'thinking': 533,\n",
              " 'viewer': 534,\n",
              " 'killed': 535,\n",
              " 'sometimes': 536,\n",
              " 'child': 537,\n",
              " 'actress': 538,\n",
              " 'type': 539,\n",
              " 'self': 540,\n",
              " 'girls': 541,\n",
              " 'starts': 542,\n",
              " 'decent': 543,\n",
              " 'city': 544,\n",
              " 'heard': 545,\n",
              " 'says': 546,\n",
              " 'took': 547,\n",
              " 'group': 548,\n",
              " 'voice': 549,\n",
              " 'happens': 550,\n",
              " 'blood': 551,\n",
              " 'kid': 552,\n",
              " 'anyway': 553,\n",
              " 'known': 554,\n",
              " 'except': 555,\n",
              " 'fight': 556,\n",
              " 'slow': 557,\n",
              " 'experience': 558,\n",
              " 'feeling': 559,\n",
              " 'coming': 560,\n",
              " 'daughter': 561,\n",
              " 'leave': 562,\n",
              " 'writer': 563,\n",
              " 'stories': 564,\n",
              " 'score': 565,\n",
              " 'roles': 566,\n",
              " 'involved': 567,\n",
              " 'lack': 568,\n",
              " 'moment': 569,\n",
              " 'told': 570,\n",
              " 'violence': 571,\n",
              " 'complete': 572,\n",
              " 'happen': 573,\n",
              " 'save': 574,\n",
              " 'particularly': 575,\n",
              " 'chance': 576,\n",
              " 'crap': 577,\n",
              " 'extremely': 578,\n",
              " 'please': 579,\n",
              " 'simple': 580,\n",
              " 'wonder': 581,\n",
              " 'hit': 582,\n",
              " 'living': 583,\n",
              " 'ok': 584,\n",
              " 'police': 585,\n",
              " 'strong': 586,\n",
              " 'attempt': 587,\n",
              " 'cool': 588,\n",
              " 'looked': 589,\n",
              " 'hilarious': 590,\n",
              " 'cannot': 591,\n",
              " 'taken': 592,\n",
              " 'age': 593,\n",
              " 's': 594,\n",
              " \"wouldn't\": 595,\n",
              " 'serious': 596,\n",
              " 'song': 597,\n",
              " 'obvious': 598,\n",
              " 'including': 599,\n",
              " 'shown': 600,\n",
              " 'hell': 601,\n",
              " 'ago': 602,\n",
              " 'happened': 603,\n",
              " 'robert': 604,\n",
              " 'murder': 605,\n",
              " 'cut': 606,\n",
              " 'david': 607,\n",
              " 'released': 608,\n",
              " 'gore': 609,\n",
              " 'exactly': 610,\n",
              " 'reality': 611,\n",
              " 'seriously': 612,\n",
              " 'none': 613,\n",
              " 'jokes': 614,\n",
              " 'james': 615,\n",
              " 'hero': 616,\n",
              " 'running': 617,\n",
              " 'english': 618,\n",
              " 'possible': 619,\n",
              " 'across': 620,\n",
              " 'opening': 621,\n",
              " 'usually': 622,\n",
              " 'cinematography': 623,\n",
              " 'number': 624,\n",
              " 'sad': 625,\n",
              " 'alone': 626,\n",
              " 'interest': 627,\n",
              " 'yourself': 628,\n",
              " 'huge': 629,\n",
              " \"film's\": 630,\n",
              " 'saying': 631,\n",
              " 'whose': 632,\n",
              " 'order': 633,\n",
              " 'career': 634,\n",
              " 'documentary': 635,\n",
              " 'ends': 636,\n",
              " 'wish': 637,\n",
              " 'brother': 638,\n",
              " 'hours': 639,\n",
              " 'light': 640,\n",
              " 'annoying': 641,\n",
              " 'level': 642,\n",
              " 'relationship': 643,\n",
              " 'taking': 644,\n",
              " 'started': 645,\n",
              " 'view': 646,\n",
              " 'today': 647,\n",
              " 'talent': 648,\n",
              " 'call': 649,\n",
              " 'four': 650,\n",
              " 'shots': 651,\n",
              " 'husband': 652,\n",
              " 'ridiculous': 653,\n",
              " 'body': 654,\n",
              " 'word': 655,\n",
              " 'middle': 656,\n",
              " 'silly': 657,\n",
              " 'knew': 658,\n",
              " 'opinion': 659,\n",
              " 'ones': 660,\n",
              " 'female': 661,\n",
              " 'scary': 662,\n",
              " 'beyond': 663,\n",
              " 'turned': 664,\n",
              " 'mostly': 665,\n",
              " 'usual': 666,\n",
              " 'knows': 667,\n",
              " \"i'll\": 668,\n",
              " 'jack': 669,\n",
              " 'rating': 670,\n",
              " 'disappointed': 671,\n",
              " 'talking': 672,\n",
              " 'change': 673,\n",
              " 'power': 674,\n",
              " 'basically': 675,\n",
              " 'country': 676,\n",
              " 'important': 677,\n",
              " 'somewhat': 678,\n",
              " 'major': 679,\n",
              " 'strange': 680,\n",
              " 'happy': 681,\n",
              " 'apparently': 682,\n",
              " 'words': 683,\n",
              " 'room': 684,\n",
              " 'novel': 685,\n",
              " 'upon': 686,\n",
              " 'non': 687,\n",
              " 'cheap': 688,\n",
              " 'single': 689,\n",
              " 'modern': 690,\n",
              " 'episodes': 691,\n",
              " 'attention': 692,\n",
              " 'local': 693,\n",
              " 'musical': 694,\n",
              " 'due': 695,\n",
              " 'miss': 696,\n",
              " 'clearly': 697,\n",
              " 'finds': 698,\n",
              " 'television': 699,\n",
              " '7': 700,\n",
              " 'five': 701,\n",
              " \"aren't\": 702,\n",
              " 'problems': 703,\n",
              " 'fast': 704,\n",
              " 'events': 705,\n",
              " 'sequence': 706,\n",
              " 'thriller': 707,\n",
              " 'add': 708,\n",
              " 'die': 709,\n",
              " 'review': 710,\n",
              " 'british': 711,\n",
              " 'ten': 712,\n",
              " 'french': 713,\n",
              " 'tells': 714,\n",
              " 'predictable': 715,\n",
              " 'class': 716,\n",
              " 'entertainment': 717,\n",
              " 'talk': 718,\n",
              " 'moving': 719,\n",
              " 'comic': 720,\n",
              " 'space': 721,\n",
              " 'future': 722,\n",
              " 'straight': 723,\n",
              " 'earth': 724,\n",
              " 'above': 725,\n",
              " 'team': 726,\n",
              " 'sets': 727,\n",
              " 'dialog': 728,\n",
              " 'giving': 729,\n",
              " 'supporting': 730,\n",
              " 'whether': 731,\n",
              " '8': 732,\n",
              " 'similar': 733,\n",
              " 'enjoyable': 734,\n",
              " 'soundtrack': 735,\n",
              " 'songs': 736,\n",
              " 'near': 737,\n",
              " 'easily': 738,\n",
              " 'filmed': 739,\n",
              " 'appears': 740,\n",
              " 'within': 741,\n",
              " 'eye': 742,\n",
              " 'hate': 743,\n",
              " 'lots': 744,\n",
              " 'george': 745,\n",
              " 'sequel': 746,\n",
              " 'dull': 747,\n",
              " 'romantic': 748,\n",
              " 'needs': 749,\n",
              " \"haven't\": 750,\n",
              " 'stay': 751,\n",
              " 'storyline': 752,\n",
              " 'easy': 753,\n",
              " 'clear': 754,\n",
              " 'sorry': 755,\n",
              " 'surprised': 756,\n",
              " 'suspense': 757,\n",
              " 'rock': 758,\n",
              " 'bring': 759,\n",
              " 'mention': 760,\n",
              " 'falls': 761,\n",
              " 'bunch': 762,\n",
              " 'showing': 763,\n",
              " 'certain': 764,\n",
              " 'working': 765,\n",
              " 'tried': 766,\n",
              " 'fall': 767,\n",
              " 'release': 768,\n",
              " 'ways': 769,\n",
              " 'theme': 770,\n",
              " 'message': 771,\n",
              " \"what's\": 772,\n",
              " 'tale': 773,\n",
              " '9': 774,\n",
              " 'monster': 775,\n",
              " 'king': 776,\n",
              " 'doubt': 777,\n",
              " 'theater': 778,\n",
              " 'feels': 779,\n",
              " 'minute': 780,\n",
              " 'typical': 781,\n",
              " 'stand': 782,\n",
              " 'named': 783,\n",
              " 'effort': 784,\n",
              " 'using': 785,\n",
              " 'dr': 786,\n",
              " 'deal': 787,\n",
              " 'buy': 788,\n",
              " 'realistic': 789,\n",
              " 't': 790,\n",
              " 'feature': 791,\n",
              " 'gone': 792,\n",
              " 'avoid': 793,\n",
              " 'editing': 794,\n",
              " 'sister': 795,\n",
              " 'viewers': 796,\n",
              " 'means': 797,\n",
              " 'mystery': 798,\n",
              " 'fantastic': 799,\n",
              " 'among': 800,\n",
              " 'comments': 801,\n",
              " 'nearly': 802,\n",
              " 'kept': 803,\n",
              " 'subject': 804,\n",
              " 'check': 805,\n",
              " 'greatest': 806,\n",
              " 'red': 807,\n",
              " 'follow': 808,\n",
              " 'elements': 809,\n",
              " 'famous': 810,\n",
              " 'general': 811,\n",
              " 'lady': 812,\n",
              " 'actual': 813,\n",
              " 'herself': 814,\n",
              " 'crime': 815,\n",
              " 'points': 816,\n",
              " 'atmosphere': 817,\n",
              " 'dog': 818,\n",
              " 'parents': 819,\n",
              " 'okay': 820,\n",
              " 'form': 821,\n",
              " 'viewing': 822,\n",
              " 'begins': 823,\n",
              " 'rent': 824,\n",
              " 'leads': 825,\n",
              " 'imagine': 826,\n",
              " 'richard': 827,\n",
              " 'move': 828,\n",
              " 'killing': 829,\n",
              " 'oscar': 830,\n",
              " 'somehow': 831,\n",
              " 'tom': 832,\n",
              " 'sci': 833,\n",
              " 'fi': 834,\n",
              " 'peter': 835,\n",
              " 'brought': 836,\n",
              " 'forget': 837,\n",
              " 'reviews': 838,\n",
              " 'particular': 839,\n",
              " 'figure': 840,\n",
              " 're': 841,\n",
              " \"you've\": 842,\n",
              " 'deep': 843,\n",
              " 'material': 844,\n",
              " 'surprise': 845,\n",
              " 'believable': 846,\n",
              " 'average': 847,\n",
              " 'weak': 848,\n",
              " 'paul': 849,\n",
              " 'animation': 850,\n",
              " 'whatever': 851,\n",
              " 'note': 852,\n",
              " 'sequences': 853,\n",
              " 'wait': 854,\n",
              " 'lame': 855,\n",
              " 'period': 856,\n",
              " 'learn': 857,\n",
              " 'eventually': 858,\n",
              " 'sit': 859,\n",
              " 'open': 860,\n",
              " 'expected': 861,\n",
              " 'hear': 862,\n",
              " '20': 863,\n",
              " \"'\": 864,\n",
              " 'decided': 865,\n",
              " 'situation': 866,\n",
              " 'poorly': 867,\n",
              " 'indeed': 868,\n",
              " 'third': 869,\n",
              " 'free': 870,\n",
              " 'acted': 871,\n",
              " 'box': 872,\n",
              " 'premise': 873,\n",
              " 'imdb': 874,\n",
              " 'dance': 875,\n",
              " 'write': 876,\n",
              " 'truth': 877,\n",
              " 'reading': 878,\n",
              " 'romance': 879,\n",
              " 'hot': 880,\n",
              " 'cheesy': 881,\n",
              " 'credits': 882,\n",
              " \"who's\": 883,\n",
              " 'unless': 884,\n",
              " \"let's\": 885,\n",
              " 'emotional': 886,\n",
              " 'shame': 887,\n",
              " 'otherwise': 888,\n",
              " 'society': 889,\n",
              " 'leaves': 890,\n",
              " 'needed': 891,\n",
              " 'difficult': 892,\n",
              " 'became': 893,\n",
              " 'forced': 894,\n",
              " 'meets': 895,\n",
              " 'memorable': 896,\n",
              " 'possibly': 897,\n",
              " 'doctor': 898,\n",
              " 'york': 899,\n",
              " 'begin': 900,\n",
              " 'western': 901,\n",
              " 'meet': 902,\n",
              " 'question': 903,\n",
              " 'season': 904,\n",
              " 'footage': 905,\n",
              " 'gay': 906,\n",
              " 'crew': 907,\n",
              " 'features': 908,\n",
              " 'de': 909,\n",
              " 'boys': 910,\n",
              " 'effect': 911,\n",
              " 'air': 912,\n",
              " 'sexual': 913,\n",
              " 'forward': 914,\n",
              " 'badly': 915,\n",
              " 'street': 916,\n",
              " 'superb': 917,\n",
              " 'screenplay': 918,\n",
              " 'e': 919,\n",
              " 'america': 920,\n",
              " 'plus': 921,\n",
              " 'beauty': 922,\n",
              " 'island': 923,\n",
              " 'hands': 924,\n",
              " 'weird': 925,\n",
              " 'japanese': 926,\n",
              " 'laughs': 927,\n",
              " 'stage': 928,\n",
              " 'battle': 929,\n",
              " 'masterpiece': 930,\n",
              " 'personal': 931,\n",
              " 'whom': 932,\n",
              " 'quickly': 933,\n",
              " 'sounds': 934,\n",
              " 'perfectly': 935,\n",
              " 'nor': 936,\n",
              " 'male': 937,\n",
              " 'interested': 938,\n",
              " 'worked': 939,\n",
              " 'setting': 940,\n",
              " 'previous': 941,\n",
              " 'comment': 942,\n",
              " 'total': 943,\n",
              " 'incredibly': 944,\n",
              " 'inside': 945,\n",
              " 'copy': 946,\n",
              " 'result': 947,\n",
              " 'keeps': 948,\n",
              " 'realize': 949,\n",
              " 'nature': 950,\n",
              " 'fire': 951,\n",
              " 'creepy': 952,\n",
              " 'mark': 953,\n",
              " 'dumb': 954,\n",
              " 'background': 955,\n",
              " 'earlier': 956,\n",
              " 'appear': 957,\n",
              " 'unique': 958,\n",
              " 'crazy': 959,\n",
              " 'following': 960,\n",
              " 'powerful': 961,\n",
              " 'ask': 962,\n",
              " 'rate': 963,\n",
              " 'dramatic': 964,\n",
              " 'pay': 965,\n",
              " 'older': 966,\n",
              " 'towards': 967,\n",
              " 'girlfriend': 968,\n",
              " 'fairly': 969,\n",
              " 'business': 970,\n",
              " 'bill': 971,\n",
              " 'admit': 972,\n",
              " 'front': 973,\n",
              " 'brings': 974,\n",
              " 'apart': 975,\n",
              " 'mess': 976,\n",
              " 'dream': 977,\n",
              " 'lee': 978,\n",
              " 'writers': 979,\n",
              " 'leading': 980,\n",
              " 'development': 981,\n",
              " 'water': 982,\n",
              " 'baby': 983,\n",
              " 'political': 984,\n",
              " 'spent': 985,\n",
              " 'rich': 986,\n",
              " 'directors': 987,\n",
              " 'joke': 988,\n",
              " 'plenty': 989,\n",
              " 'cop': 990,\n",
              " 'directing': 991,\n",
              " 'various': 992,\n",
              " 'joe': 993,\n",
              " 'gun': 994,\n",
              " 'cover': 995,\n",
              " 'break': 996,\n",
              " 'outside': 997,\n",
              " 'reasons': 998,\n",
              " 'meant': 999,\n",
              " 'portrayed': 1000,\n",
              " ...}"
            ]
          },
          "metadata": {},
          "execution_count": 141
        }
      ]
    },
    {
      "cell_type": "code",
      "source": [
        "x_train_tokens = tokenizer.texts_to_sequences(x_train)"
      ],
      "metadata": {
        "id": "DQjIUOJp8AI8"
      },
      "execution_count": null,
      "outputs": []
    },
    {
      "cell_type": "code",
      "source": [
        "x_train[800]"
      ],
      "metadata": {
        "colab": {
          "base_uri": "https://localhost:8080/",
          "height": 105
        },
        "id": "8jMyKEz38FPb",
        "outputId": "71491adc-bab2-463a-aedc-fdfe51c4dd00"
      },
      "execution_count": null,
      "outputs": [
        {
          "output_type": "execute_result",
          "data": {
            "text/plain": [
              "\"Contrary to most of the comments in this section, I have to say this film just barely escapes the definition 'rubbish!'. The only readers who seem to be aware of what a catalogue of clichés it is are those who, like me, live in the north-east and know at first hand what the area is like. I am totally sick of films that are supposed to be 'realistic', yet portray the working class (of wherever) as stupid, criminal low-lifes, but then excuse them because of their social background. And funny? I smiled briefly twice and laughed once, but that was at the incongruity of two boy actors with Sunderland accents supposedly trying to hide their Newcastle accents from Sunderland football fans! There was only one likable character in the whole film, and that was the senile grandfather played quietly but very competently by Roy Hudd -- the only non-Geordie in the cast.As for the writing -- well, I just wonder what university sociology department the author studied at. He certainly had no ear for the local accent. And I too have never heard the expression 'Purely Belter' -- and not only am I a native, I'm a linguist who's written articles on the local dialect.Don't waste your time and eyesight on this garbage. It isn't funny, it isn't realistic, it isn't entertaining, and it is fundamentally dishonest.\""
            ],
            "application/vnd.google.colaboratory.intrinsic+json": {
              "type": "string"
            }
          },
          "metadata": {},
          "execution_count": 143
        }
      ]
    },
    {
      "cell_type": "code",
      "source": [
        "print(x_train_tokens[800])"
      ],
      "metadata": {
        "colab": {
          "base_uri": "https://localhost:8080/"
        },
        "id": "DkaHlzwg8JKH",
        "outputId": "78ba9d07-949d-44f4-b51d-1fa53b36f77c"
      },
      "execution_count": null,
      "outputs": [
        {
          "output_type": "stream",
          "name": "stdout",
          "text": [
            "[3735, 5, 87, 4, 1, 801, 7, 10, 2460, 9, 24, 5, 130, 10, 18, 38, 1174, 3034, 1, 4945, 864, 1, 60, 6070, 34, 303, 5, 25, 1854, 4, 47, 3, 4, 1692, 8, 6, 22, 142, 34, 36, 67, 411, 7, 1, 2187, 2476, 2, 118, 29, 86, 523, 47, 1, 1635, 6, 36, 9, 236, 460, 1157, 4, 103, 11, 22, 440, 5, 25, 243, 2056, 1, 765, 716, 4, 7187, 13, 359, 1831, 351, 17, 90, 1378, 89, 83, 4, 64, 1128, 955, 2, 153, 9, 3031, 1472, 2, 1437, 280, 17, 11, 12, 29, 1, 4, 104, 419, 149, 16, 2530, 1539, 263, 5, 2485, 64, 2530, 35, 2030, 454, 45, 12, 60, 26, 1496, 107, 7, 1, 223, 18, 2, 11, 12, 1, 3573, 251, 5312, 17, 51, 9559, 30, 2681, 1, 60, 687, 7, 1, 176, 13, 14, 1, 485, 69, 9, 38, 581, 47, 3675, 2447, 1, 2212, 6879, 29, 27, 418, 65, 53, 4591, 14, 1, 693, 1214, 2, 9, 95, 24, 110, 545, 1, 2688, 2, 21, 60, 236, 9, 3, 2098, 144, 3, 883, 406, 19, 1, 693, 88, 446, 124, 54, 2, 19, 10, 1169, 8, 210, 153, 8, 210, 789, 8, 210, 425, 2, 8, 6]\n"
          ]
        }
      ]
    },
    {
      "cell_type": "code",
      "source": [
        "x_test_tokens = tokenizer.texts_to_sequences(x_test)"
      ],
      "metadata": {
        "id": "Ggh4tdKD8hTA"
      },
      "execution_count": null,
      "outputs": []
    },
    {
      "cell_type": "code",
      "source": [
        "num_tokens = [len(tokens) for tokens in x_train_tokens + x_test_tokens]\n",
        "num_tokens = np.array(num_tokens)"
      ],
      "metadata": {
        "id": "RRQV1VuV8nGJ"
      },
      "execution_count": null,
      "outputs": []
    },
    {
      "cell_type": "code",
      "source": [
        "np.mean(num_tokens)"
      ],
      "metadata": {
        "colab": {
          "base_uri": "https://localhost:8080/"
        },
        "id": "btlzStb38pJc",
        "outputId": "c4acd79a-9636-40bc-cf36-fafcf4a68ebb"
      },
      "execution_count": null,
      "outputs": [
        {
          "output_type": "execute_result",
          "data": {
            "text/plain": [
              "217.364725"
            ]
          },
          "metadata": {},
          "execution_count": 147
        }
      ]
    },
    {
      "cell_type": "code",
      "source": [
        "np.max(num_tokens)"
      ],
      "metadata": {
        "colab": {
          "base_uri": "https://localhost:8080/"
        },
        "id": "GrhoK8EY8sGG",
        "outputId": "533b023b-75ab-4baf-8d70-1eb506bc7a36"
      },
      "execution_count": null,
      "outputs": [
        {
          "output_type": "execute_result",
          "data": {
            "text/plain": [
              "2122"
            ]
          },
          "metadata": {},
          "execution_count": 148
        }
      ]
    },
    {
      "cell_type": "code",
      "source": [
        "np.argmax(num_tokens)"
      ],
      "metadata": {
        "colab": {
          "base_uri": "https://localhost:8080/"
        },
        "id": "5OOs5VFs8uum",
        "outputId": "29c909ed-3d5a-4532-b653-f26e1aab7bce"
      },
      "execution_count": null,
      "outputs": [
        {
          "output_type": "execute_result",
          "data": {
            "text/plain": [
              "34167"
            ]
          },
          "metadata": {},
          "execution_count": 149
        }
      ]
    },
    {
      "cell_type": "code",
      "source": [
        "x_test[2167]"
      ],
      "metadata": {
        "colab": {
          "base_uri": "https://localhost:8080/",
          "height": 105
        },
        "id": "hcoVoQkI8xsF",
        "outputId": "183e723c-c928-4cb5-a8a8-d31afbac024f"
      },
      "execution_count": null,
      "outputs": [
        {
          "output_type": "execute_result",
          "data": {
            "text/plain": [
              "'There\\'s a sign on The Lost Highway that says:*MAJOR SPOILERS AHEAD*(but you already knew that, didn\\'t you?)Since there\\'s a great deal of people that apparently did not get the point of this movie, I\\'d like to contribute my interpretation of why the plot makes perfect sense. As others have pointed out, one single viewing of this movie is not sufficient. If you have the DVD of MD, you can \"cheat\" by looking at David Lynch\\'s \"Top 10 Hints to Unlocking MD\" (but only upon second or third viewing, please.) ;)First of all, Mulholland Drive is downright brilliant. A masterpiece. This is the kind of movie that refuse to leave your head. Not often are the comments on the DVDs very accurate, but Vogue\\'s \"It gets inside your head and stays there\" really hit the mark.David Lynch deserves praise for creating a movie that not only has a beautifully stylish look to it - cinematography-wise, has great acting (esp. Naomi Watts), a haunting soundtrack by Badalamenti, and a very dream-like quality to it -- but on top of it all it also manages to involve the viewer in such a way that few movies have before. (After all, when is the last time you saw a movie that just wouldn\\'t leave your mind and that everyone felt compelled to talk and write about, regardless of whether they liked it or hated it?)Allright, enough about all that, it\\'s time to justify those statements.Most people that have gone through some effort to try to piece the plot together will have come to the conclusion that the first half of the picture is an illusion/a dream sequence.Of course, that\\'s too bad for all those trying to make sense of the movie by expecting \"traditional\" methods in which the story is laid out in a timely, logic and linear manner for the viewer. But for those expecting that, I urge you to check the name of the director and come back again. ;)MD is the story of the sad demise of Diane Selwyn, a wannabe-actor who is hopelessly in love with another actor, Camilla Rowles. Due to Diane\\'s lack of talent, she is constantly struggling to advance her career, and feels she failed to deliver on her own and her parents\\' expectations. Upon realizing that Camilla will never be hers (C. becomes engaged with Adam Kesher, the director), she hires a hitman to get rid of her, and subsequently has to deal with the guilt that it produces.The movie first starts off with what may seem as a strange opening for this kind of thriller; which is some 50s dance/jitterbug contest, in which we can see the main character Betty giving a great performance. We also see an elderly couple (which we will see twice more throughout the movie) together with her, and applauding her.No, wait. This is what most people see the first time they view it. There\\'s actually another very significant fact that is given before the credits - the camera moving into an object (although blurry) and the scene quickly fading out. If you look closely, the object is actually a pillow, revealing that what follows is a dream.The main characters seen in the first half of the movie:Betty: Diane Selwyn\\'s imaginary self, used in the first half of the movie that constitutes the \"dream-sequence\" - a positive portrayal of a successful, aspiring young actor (the complete opposite of Diane). \\'Betty\\' was chosen as the name as that is the real name of the waitress at Winkies. Notice that in the dream version, the waitresses\\' name is \\'Diane\\'.Rita: The fantasy version of Camilla Rhodes that, through Diane\\'s dream, and with the help of an imaginary car-accident, is turned into an amnesiac. This makes her vulnerable and dependent on Diane\\'s love. She is then conveniently placed in Betty/Diane\\'s aunt\\'s luxurious home which Betty has been allowed to stay in.Coco: In real life, Adam\\'s mother. In the dream part, the woman in charge of the apartment complex that Betty stays in. She\\'s mainly a strong authority figure, as can be witnessed in both parts of the film.Adam: The director. We know from the second half that he gets engaged with Camilla. His sole purpose for being in the first half of the movie is only to serve as a punching bag for Betty/Diane, since she develops such hatred towards him.Aunt Ruth: Diane\\'s real aunt, but instead of being out of town, she is actually dead. Diane inherited the money left by her aunt and used that to pay for Camilla\\'s murder.Mr. Roach: A typical Lynchian character. Not real; appears only in Diane\\'s dream sequence. He\\'s a mysterious, influential person that controls the chain of events in the dream from his wheelchair. He serves much of the same function as the backwards-talking dwarf (which he also plays) in Twin Peaks.The hitman: The person that murders Camilla. This character is basically the same in both parts of the movie, although rendered in a slightly more goofy fashion in the dream sequence (more on that below).Now, having established the various versions of the characters in the movie, we can begin to delve into the plot. Of course I will not go into every little detail (neither will I lay it out chronologically), but I will try to explain some of the important scenes, in relation to Lynch\\' \"hint-sheet\".As I mentioned above, Camilla was re-produced as an amnesiac through her improbable survival of a car-accident in the first 10 minutes of the movie, which left her completely vulnerable. What I found very intriguing with MD, is that Lynch constantly gives hints on what is real and what isn\\'t. I\\'ve already mentioned the camera moving into the pillow, but notice how there\\'s two cars riding in each lane approaching the limo.Only one of the cars actually hit the limo; what about the other? Even if they stayed clear of the accident themselves, wouldn\\'t they try to help the others, or at least call for help? My theory is that, since this is a dream, the presence of the other car is just set aside, and forgotten about. Since, as Rogert Ebert so eloquently puts it \"Like real dreams, it does not explain, does not complete its sequences, lingers over what it finds fascinating, dismisses unpromising plotlines.\"Shortly after Rita crawls down from the crash site at Mulholland Dr., and makes her way down the hillside and sneaks into Aunt Ruth\\'s apartment, Betty arrives and we see this creepy old couple driving away, staring ghoulishly at each other and grinning at themselves and the camera. This is the first indication that what we\\'re seeing is a nightmare.Although the old couple seem to be unfamiliar to Betty, I think they\\'re actually her parents (since they were applauding her at the jitterbug contest). Perhaps she didn\\'t know them all that well, and didn\\'t really have as good a relationship with them as she wanted, so the couple is shown as very pleasant and helpful to her in the dream. They also represent her feelings of guilt from the murder, and Diane\\'s sense of unfulfillment regarding her unachieved goals in her life.A rather long and hilarious scene is the one involving the hitman. Diane apparently sees him as the major force behind the campaign trying to pressure the director to accept Camilla\\'s part in the movie (from Adam\\'s party in the second half of the movie), and he therefore occupies a major part of her dream. Because of her feelings of guilt and remorse towards the murder of Camilla, a part of her wants him to miss, so she turns him into a dumb criminal.This scene, I think, is also Lynch\\'s attempt at totally screwing his audience over, since they\\'re given a false pretence in which to view the movie.Gotta love that \\'Something just bit me bad\\' line, though. :)The next interesting scene is the one with the two persons at Twinkies, who are having a conversation about how one of them keep having this recurring nightmare involving a man which is seen by him through a wall outside of the diner that they\\'re sitting in. After a little talk, they head outside and keep walking toward the corner of a fence, accompanied of course by excellent music matching the mood of the scene.When reaching the corner, a bum-like character with a disfigured face appears out from behind the corner, scaring the living crap out of the man having the nightmare. This nightmare exists only in Diane\\'s mind; she saw that guy in the diner when paying for the murder. So, in short, her obessions translate into that poor guy\\'s nightmares. The bum also signifies Diane\\'s evil side, as can be witnessed later in the movie.The Cowboy constitutes (along with the dwarf) one of the strange characters that are always present in the Lynchian landscape -- Diane only saw him for a short while at Adam\\'s party, but just like our own dreams can award insignificant persons that we hardly know a major part in our dreams, so can he be awarded an important part in her dream. We are also given further clues during his scenes that what we\\'re seeing is not real (his sudden disappearance, etc.)The Cowboy is also used as a tool to mock the Director, when he meets up with him at the odd location (the lights here give a clear indication that this is part of a dream). Also notice how he says that he will appear one more time if he (Adam) does good, or two more times if he does bad. Throughout the movie he appears two more times, indicating to Diane that she did bad. He is also the one to wake her up to reality (that scene is probably an illusion made to fit into her requirements of him appearing twice), and shortly thereafter she commits suicide.The espresso-scene with the Castigliane brothers (where we can see Badalamenti, the composer, as Luigi) is probably a result of the fact that Diane was having an espresso just before Camilla and Adam made their announcement at Adam\\'s party in the second half. It could at the same time also be a statement from Lynch.During the scene in which they enter Diane\\'s apartment, the body lying in the bed is Camilla, but notice how she\\'s assumed Diane\\'s sleeping position; Diane is seeing herself in her own dream, but the face is not hers, although it had the same wounds on the face as Diane would have after shooting herself. This scene is also filled with some genuine Lynchian creepiness. Since Diane did not know where (or when) the hitman would get to Camilla and finish her off, she just put her into her own home.In real life, Diane\\'s audition for the movie part was bad. In her dream, she delivers a perfect audition - leaving the whole crew ecstatic about her performance.Also interesting is the fact that the money that in real-life was used to pay for Camilla\\'s murder now appears in Rita/Camilla\\'s purse. This is part of Diane\\'s undoing of her terrible act by effectively being given the money back, as the murder now hasn\\'t taken place.When her neighbor arrives to get her piano-shaped ashtray, another hint is given; she takes the ashtray from her table and leaves, yet later when Camilla and Betty have their encounter on the couch, we see the ashtray appear again when the camera pans over the table, suggesting that Betty\\'s encounter with the neighbor was a fantasy.The catch phrase of the movie Adam is auditioning actresses for is \"She is the girl\"; which are the exact same words that Diane uses when giving the hitman Camilla\\'s photo resume.The blue box and the key represent the major turning point in the movie, and is where the true identities of the characters are revealed. There\\'s much symbolism going on here; the box may represent Diane\\'s future (it\\'s empty), or it may be a sort of a Pandora\\'s box (the hitman laughs when she asks him what the key will open). Either way, it is connected to the murder by means of the blue key (which is placed next to her after the murder has taken place). The box is also seen at the end of the movie in the hands of the disfigured bum.Club Silencio is a neat little addition to further remind the viewer that what s/he is viewing is not real. It also signifies that Diane is about to wake up to her reality (her reality being a nightmare that she is unable to escape from, even in her dreams).During the chilling scene at the end where the creepy old couple reappear, Diane is tormented in such a way that she sees suicide as the only way out in order to escape the screams and to avoid being haunted by her fears.Anyway, that is my $0.02. Hope this could help people from bashing out at this movie and calling it \\'the worst movie ever\\' or something to that effect, without realizing the plot.As usual, Lynch is all about creating irrational fears, and he certainly achieves that with this picture as well.10 out of 10.'"
            ],
            "application/vnd.google.colaboratory.intrinsic+json": {
              "type": "string"
            }
          },
          "metadata": {},
          "execution_count": 150
        }
      ]
    },
    {
      "cell_type": "code",
      "source": [
        "max_tokens = np.mean(num_tokens) + 2 * np.std(num_tokens)\n",
        "max_tokens = int(max_tokens)\n",
        "max_tokens"
      ],
      "metadata": {
        "colab": {
          "base_uri": "https://localhost:8080/"
        },
        "id": "CdqswLwfAd-B",
        "outputId": "39487643-676e-4c24-d566-b09413b516bc"
      },
      "execution_count": null,
      "outputs": [
        {
          "output_type": "execute_result",
          "data": {
            "text/plain": [
              "533"
            ]
          },
          "metadata": {},
          "execution_count": 151
        }
      ]
    },
    {
      "cell_type": "code",
      "source": [
        "np.sum(num_tokens < max_tokens) / len(num_tokens)"
      ],
      "metadata": {
        "colab": {
          "base_uri": "https://localhost:8080/"
        },
        "id": "HjUQHZNrAh4U",
        "outputId": "5130245b-c080-4d8d-c326-9c92558d66c0"
      },
      "execution_count": null,
      "outputs": [
        {
          "output_type": "execute_result",
          "data": {
            "text/plain": [
              "0.945225"
            ]
          },
          "metadata": {},
          "execution_count": 152
        }
      ]
    },
    {
      "cell_type": "code",
      "source": [
        "x_train_pad = pad_sequences(x_train_tokens, maxlen=max_tokens)"
      ],
      "metadata": {
        "id": "8Uy4r7PuAkfn"
      },
      "execution_count": null,
      "outputs": []
    },
    {
      "cell_type": "code",
      "source": [
        "x_test_pad = pad_sequences(x_test_tokens, maxlen=max_tokens)"
      ],
      "metadata": {
        "id": "P3p3Dho-AnNY"
      },
      "execution_count": null,
      "outputs": []
    },
    {
      "cell_type": "code",
      "source": [
        "x_train_pad.shape"
      ],
      "metadata": {
        "colab": {
          "base_uri": "https://localhost:8080/"
        },
        "id": "x4aGc8V4AplO",
        "outputId": "1364f01c-e7c1-400f-9ee5-c793566cbd0d"
      },
      "execution_count": null,
      "outputs": [
        {
          "output_type": "execute_result",
          "data": {
            "text/plain": [
              "(32000, 533)"
            ]
          },
          "metadata": {},
          "execution_count": 155
        }
      ]
    },
    {
      "cell_type": "code",
      "source": [
        "x_test_pad.shape"
      ],
      "metadata": {
        "colab": {
          "base_uri": "https://localhost:8080/"
        },
        "id": "nSLC9sIBAsQg",
        "outputId": "b4ed47ee-bf61-4e76-d17a-9be93fde13e3"
      },
      "execution_count": null,
      "outputs": [
        {
          "output_type": "execute_result",
          "data": {
            "text/plain": [
              "(8000, 533)"
            ]
          },
          "metadata": {},
          "execution_count": 156
        }
      ]
    },
    {
      "cell_type": "code",
      "source": [
        "np.array(x_train_tokens[800])"
      ],
      "metadata": {
        "colab": {
          "base_uri": "https://localhost:8080/"
        },
        "id": "skvfOoVcAu8G",
        "outputId": "3f8dfda9-1e60-423f-96fb-c391d8e3d60c"
      },
      "execution_count": null,
      "outputs": [
        {
          "output_type": "execute_result",
          "data": {
            "text/plain": [
              "array([3735,    5,   87,    4,    1,  801,    7,   10, 2460,    9,   24,\n",
              "          5,  130,   10,   18,   38, 1174, 3034,    1, 4945,  864,    1,\n",
              "         60, 6070,   34,  303,    5,   25, 1854,    4,   47,    3,    4,\n",
              "       1692,    8,    6,   22,  142,   34,   36,   67,  411,    7,    1,\n",
              "       2187, 2476,    2,  118,   29,   86,  523,   47,    1, 1635,    6,\n",
              "         36,    9,  236,  460, 1157,    4,  103,   11,   22,  440,    5,\n",
              "         25,  243, 2056,    1,  765,  716,    4, 7187,   13,  359, 1831,\n",
              "        351,   17,   90, 1378,   89,   83,    4,   64, 1128,  955,    2,\n",
              "        153,    9, 3031, 1472,    2, 1437,  280,   17,   11,   12,   29,\n",
              "          1,    4,  104,  419,  149,   16, 2530, 1539,  263,    5, 2485,\n",
              "         64, 2530,   35, 2030,  454,   45,   12,   60,   26, 1496,  107,\n",
              "          7,    1,  223,   18,    2,   11,   12,    1, 3573,  251, 5312,\n",
              "         17,   51, 9559,   30, 2681,    1,   60,  687,    7,    1,  176,\n",
              "         13,   14,    1,  485,   69,    9,   38,  581,   47, 3675, 2447,\n",
              "          1, 2212, 6879,   29,   27,  418,   65,   53, 4591,   14,    1,\n",
              "        693, 1214,    2,    9,   95,   24,  110,  545,    1, 2688,    2,\n",
              "         21,   60,  236,    9,    3, 2098,  144,    3,  883,  406,   19,\n",
              "          1,  693,   88,  446,  124,   54,    2,   19,   10, 1169,    8,\n",
              "        210,  153,    8,  210,  789,    8,  210,  425,    2,    8,    6])"
            ]
          },
          "metadata": {},
          "execution_count": 157
        }
      ]
    },
    {
      "cell_type": "code",
      "source": [
        "x_train_pad[800]"
      ],
      "metadata": {
        "colab": {
          "base_uri": "https://localhost:8080/"
        },
        "id": "s2dD5u9UAxlb",
        "outputId": "2cc9db33-c130-42ec-cae9-87fc120fbbdb"
      },
      "execution_count": null,
      "outputs": [
        {
          "output_type": "execute_result",
          "data": {
            "text/plain": [
              "array([   0,    0,    0,    0,    0,    0,    0,    0,    0,    0,    0,\n",
              "          0,    0,    0,    0,    0,    0,    0,    0,    0,    0,    0,\n",
              "          0,    0,    0,    0,    0,    0,    0,    0,    0,    0,    0,\n",
              "          0,    0,    0,    0,    0,    0,    0,    0,    0,    0,    0,\n",
              "          0,    0,    0,    0,    0,    0,    0,    0,    0,    0,    0,\n",
              "          0,    0,    0,    0,    0,    0,    0,    0,    0,    0,    0,\n",
              "          0,    0,    0,    0,    0,    0,    0,    0,    0,    0,    0,\n",
              "          0,    0,    0,    0,    0,    0,    0,    0,    0,    0,    0,\n",
              "          0,    0,    0,    0,    0,    0,    0,    0,    0,    0,    0,\n",
              "          0,    0,    0,    0,    0,    0,    0,    0,    0,    0,    0,\n",
              "          0,    0,    0,    0,    0,    0,    0,    0,    0,    0,    0,\n",
              "          0,    0,    0,    0,    0,    0,    0,    0,    0,    0,    0,\n",
              "          0,    0,    0,    0,    0,    0,    0,    0,    0,    0,    0,\n",
              "          0,    0,    0,    0,    0,    0,    0,    0,    0,    0,    0,\n",
              "          0,    0,    0,    0,    0,    0,    0,    0,    0,    0,    0,\n",
              "          0,    0,    0,    0,    0,    0,    0,    0,    0,    0,    0,\n",
              "          0,    0,    0,    0,    0,    0,    0,    0,    0,    0,    0,\n",
              "          0,    0,    0,    0,    0,    0,    0,    0,    0,    0,    0,\n",
              "          0,    0,    0,    0,    0,    0,    0,    0,    0,    0,    0,\n",
              "          0,    0,    0,    0,    0,    0,    0,    0,    0,    0,    0,\n",
              "          0,    0,    0,    0,    0,    0,    0,    0,    0,    0,    0,\n",
              "          0,    0,    0,    0,    0,    0,    0,    0,    0,    0,    0,\n",
              "          0,    0,    0,    0,    0,    0,    0,    0,    0,    0,    0,\n",
              "          0,    0,    0,    0,    0,    0,    0,    0,    0,    0,    0,\n",
              "          0,    0,    0,    0,    0,    0,    0,    0,    0,    0,    0,\n",
              "          0,    0,    0,    0,    0,    0,    0,    0,    0,    0,    0,\n",
              "          0,    0,    0,    0,    0,    0,    0,    0,    0,    0,    0,\n",
              "          0,    0,    0,    0,    0,    0,    0,    0,    0,    0,    0,\n",
              "          0,    0,    0,    0,    0,    0,    0,    0,    0,    0,    0,\n",
              "          0,    0,    0,    0,    0, 3735,    5,   87,    4,    1,  801,\n",
              "          7,   10, 2460,    9,   24,    5,  130,   10,   18,   38, 1174,\n",
              "       3034,    1, 4945,  864,    1,   60, 6070,   34,  303,    5,   25,\n",
              "       1854,    4,   47,    3,    4, 1692,    8,    6,   22,  142,   34,\n",
              "         36,   67,  411,    7,    1, 2187, 2476,    2,  118,   29,   86,\n",
              "        523,   47,    1, 1635,    6,   36,    9,  236,  460, 1157,    4,\n",
              "        103,   11,   22,  440,    5,   25,  243, 2056,    1,  765,  716,\n",
              "          4, 7187,   13,  359, 1831,  351,   17,   90, 1378,   89,   83,\n",
              "          4,   64, 1128,  955,    2,  153,    9, 3031, 1472,    2, 1437,\n",
              "        280,   17,   11,   12,   29,    1,    4,  104,  419,  149,   16,\n",
              "       2530, 1539,  263,    5, 2485,   64, 2530,   35, 2030,  454,   45,\n",
              "         12,   60,   26, 1496,  107,    7,    1,  223,   18,    2,   11,\n",
              "         12,    1, 3573,  251, 5312,   17,   51, 9559,   30, 2681,    1,\n",
              "         60,  687,    7,    1,  176,   13,   14,    1,  485,   69,    9,\n",
              "         38,  581,   47, 3675, 2447,    1, 2212, 6879,   29,   27,  418,\n",
              "         65,   53, 4591,   14,    1,  693, 1214,    2,    9,   95,   24,\n",
              "        110,  545,    1, 2688,    2,   21,   60,  236,    9,    3, 2098,\n",
              "        144,    3,  883,  406,   19,    1,  693,   88,  446,  124,   54,\n",
              "          2,   19,   10, 1169,    8,  210,  153,    8,  210,  789,    8,\n",
              "        210,  425,    2,    8,    6], dtype=int32)"
            ]
          },
          "metadata": {},
          "execution_count": 158
        }
      ]
    },
    {
      "cell_type": "code",
      "source": [
        "idx = tokenizer.word_index\n",
        "inverse_map = dict(zip(idx.values(), idx.keys()))"
      ],
      "metadata": {
        "id": "j_Q5JJjBA1Tf"
      },
      "execution_count": null,
      "outputs": []
    },
    {
      "cell_type": "code",
      "source": [
        "def tokens_to_string(tokens):\n",
        "    words = [inverse_map[token] for token in tokens if token!=0]\n",
        "    text0 = ' '.join(words)\n",
        "    return text0"
      ],
      "metadata": {
        "id": "0EV8WBlLA5rV"
      },
      "execution_count": null,
      "outputs": []
    },
    {
      "cell_type": "code",
      "source": [
        "x_train[800]"
      ],
      "metadata": {
        "colab": {
          "base_uri": "https://localhost:8080/",
          "height": 105
        },
        "id": "DqHFlUY-BCAI",
        "outputId": "863da6fb-af1a-4a51-8f33-1b5b3e62bec4"
      },
      "execution_count": null,
      "outputs": [
        {
          "output_type": "execute_result",
          "data": {
            "text/plain": [
              "\"Contrary to most of the comments in this section, I have to say this film just barely escapes the definition 'rubbish!'. The only readers who seem to be aware of what a catalogue of clichés it is are those who, like me, live in the north-east and know at first hand what the area is like. I am totally sick of films that are supposed to be 'realistic', yet portray the working class (of wherever) as stupid, criminal low-lifes, but then excuse them because of their social background. And funny? I smiled briefly twice and laughed once, but that was at the incongruity of two boy actors with Sunderland accents supposedly trying to hide their Newcastle accents from Sunderland football fans! There was only one likable character in the whole film, and that was the senile grandfather played quietly but very competently by Roy Hudd -- the only non-Geordie in the cast.As for the writing -- well, I just wonder what university sociology department the author studied at. He certainly had no ear for the local accent. And I too have never heard the expression 'Purely Belter' -- and not only am I a native, I'm a linguist who's written articles on the local dialect.Don't waste your time and eyesight on this garbage. It isn't funny, it isn't realistic, it isn't entertaining, and it is fundamentally dishonest.\""
            ],
            "application/vnd.google.colaboratory.intrinsic+json": {
              "type": "string"
            }
          },
          "metadata": {},
          "execution_count": 161
        }
      ]
    },
    {
      "cell_type": "code",
      "source": [
        "tokens_to_string(x_train_tokens[800])"
      ],
      "metadata": {
        "colab": {
          "base_uri": "https://localhost:8080/",
          "height": 105
        },
        "id": "t2-HykfmBMfd",
        "outputId": "1e08dea2-3daa-4f28-b633-da73254c79d4"
      },
      "execution_count": null,
      "outputs": [
        {
          "output_type": "execute_result",
          "data": {
            "text/plain": [
              "\"contrary to most of the comments in this section i have to say this film just barely escapes the definition ' the only readers who seem to be aware of what a of clichés it is are those who like me live in the north east and know at first hand what the area is like i am totally sick of films that are supposed to be yet portray the working class of wherever as stupid criminal low but then excuse them because of their social background and funny i briefly twice and laughed once but that was at the of two boy actors with accents supposedly trying to hide their accents from football fans there was only one likable character in the whole film and that was the grandfather played quietly but very competently by roy the only non in the cast as for the writing well i just wonder what university department the author studied at he certainly had no ear for the local accent and i too have never heard the expression and not only am i a native i'm a who's written on the local don't waste your time and on this garbage it isn't funny it isn't realistic it isn't entertaining and it is\""
            ],
            "application/vnd.google.colaboratory.intrinsic+json": {
              "type": "string"
            }
          },
          "metadata": {},
          "execution_count": 162
        }
      ]
    },
    {
      "cell_type": "code",
      "source": [
        "model = Sequential()"
      ],
      "metadata": {
        "id": "SGvA_eRpBQwp"
      },
      "execution_count": null,
      "outputs": []
    },
    {
      "cell_type": "code",
      "source": [
        "embedding_size = 50"
      ],
      "metadata": {
        "id": "X7OVkv2OBS22"
      },
      "execution_count": null,
      "outputs": []
    },
    {
      "cell_type": "code",
      "source": [
        "model.add(Embedding(input_dim=num_words,\n",
        "                    output_dim=embedding_size,\n",
        "                    input_length=max_tokens,\n",
        "                    name='embedding_layer'))"
      ],
      "metadata": {
        "id": "lq6esRkGBVK3"
      },
      "execution_count": null,
      "outputs": []
    },
    {
      "cell_type": "code",
      "source": [
        "model.add(GRU(units=16, return_sequences=True))\n",
        "model.add(GRU(units=8, return_sequences=True))\n",
        "model.add(GRU(units=4))\n",
        "model.add(Dense(1, activation='sigmoid'))"
      ],
      "metadata": {
        "id": "DKaSF31hBXm8"
      },
      "execution_count": null,
      "outputs": []
    },
    {
      "cell_type": "code",
      "source": [
        "model.compile(loss='binary_crossentropy',\n",
        "              optimizer='rmsprop',\n",
        "              metrics=['accuracy'])"
      ],
      "metadata": {
        "id": "KGQERrF5Bc4c"
      },
      "execution_count": null,
      "outputs": []
    },
    {
      "cell_type": "code",
      "source": [
        "model.summary()"
      ],
      "metadata": {
        "colab": {
          "base_uri": "https://localhost:8080/"
        },
        "id": "Cdvm6ah1BfeS",
        "outputId": "7dbfdf3a-db42-45bd-d475-9b68d6318492"
      },
      "execution_count": null,
      "outputs": [
        {
          "output_type": "stream",
          "name": "stdout",
          "text": [
            "Model: \"sequential_2\"\n",
            "_________________________________________________________________\n",
            "Layer (type)                 Output Shape              Param #   \n",
            "=================================================================\n",
            "embedding_layer (Embedding)  (None, 533, 50)           500000    \n",
            "_________________________________________________________________\n",
            "gru_6 (GRU)                  (None, 533, 16)           3216      \n",
            "_________________________________________________________________\n",
            "gru_7 (GRU)                  (None, 533, 8)            600       \n",
            "_________________________________________________________________\n",
            "gru_8 (GRU)                  (None, 4)                 156       \n",
            "_________________________________________________________________\n",
            "dense_2 (Dense)              (None, 1)                 5         \n",
            "=================================================================\n",
            "Total params: 503,977\n",
            "Trainable params: 503,977\n",
            "Non-trainable params: 0\n",
            "_________________________________________________________________\n"
          ]
        }
      ]
    },
    {
      "cell_type": "code",
      "source": [
        "x_train_pad = np.array(x_train_pad)\n",
        "y_train = np.array(y_train)\n",
        "model.fit(x_train_pad, y_train, epochs=5, batch_size=256)"
      ],
      "metadata": {
        "colab": {
          "base_uri": "https://localhost:8080/"
        },
        "id": "3AGfzN4sBiw8",
        "outputId": "c8436448-0079-42c7-af88-18ce6e9503be"
      },
      "execution_count": null,
      "outputs": [
        {
          "output_type": "stream",
          "name": "stdout",
          "text": [
            "Epoch 1/5\n",
            "125/125 [==============================] - 142s 1s/step - loss: 0.5117 - accuracy: 0.7526\n",
            "Epoch 2/5\n",
            "125/125 [==============================] - 137s 1s/step - loss: 0.3305 - accuracy: 0.8753\n",
            "Epoch 3/5\n",
            "125/125 [==============================] - 137s 1s/step - loss: 0.2707 - accuracy: 0.9024\n",
            "Epoch 4/5\n",
            "125/125 [==============================] - 137s 1s/step - loss: 0.2356 - accuracy: 0.9168\n",
            "Epoch 5/5\n",
            "125/125 [==============================] - 135s 1s/step - loss: 0.2105 - accuracy: 0.9260\n"
          ]
        },
        {
          "output_type": "execute_result",
          "data": {
            "text/plain": [
              "<tensorflow.python.keras.callbacks.History at 0x7f5321e7ca00>"
            ]
          },
          "metadata": {},
          "execution_count": 169
        }
      ]
    },
    {
      "cell_type": "code",
      "source": [],
      "metadata": {
        "id": "2CnReUoGEjDD"
      },
      "execution_count": null,
      "outputs": []
    },
    {
      "cell_type": "code",
      "execution_count": null,
      "metadata": {
        "id": "8BENBLCEwhYa",
        "colab": {
          "base_uri": "https://localhost:8080/"
        },
        "outputId": "68261cea-55b1-4e38-ab60-22d2c6b8e3cb"
      },
      "outputs": [
        {
          "output_type": "stream",
          "name": "stdout",
          "text": [
            "250/250 [==============================] - 55s 209ms/step - loss: 0.2913 - accuracy: 0.8840\n"
          ]
        }
      ],
      "source": [
        "x_test_pad = np.array(x_test_pad)\n",
        "y_test = np.array(y_test)\n",
        "result = model.evaluate(x_test_pad, y_test)"
      ]
    },
    {
      "cell_type": "code",
      "source": [
        "result[1]"
      ],
      "metadata": {
        "colab": {
          "base_uri": "https://localhost:8080/"
        },
        "id": "dpxHm_YDHRFH",
        "outputId": "3475434a-9efe-4eb0-f26c-8fd0a0f2db62"
      },
      "execution_count": null,
      "outputs": [
        {
          "output_type": "execute_result",
          "data": {
            "text/plain": [
              "0.8840000033378601"
            ]
          },
          "metadata": {},
          "execution_count": 171
        }
      ]
    },
    {
      "cell_type": "code",
      "source": [
        "y_pred = model.predict(x=x_test_pad[0:1000])\n",
        "y_pred = y_pred.T[0]"
      ],
      "metadata": {
        "id": "swM8APFzHUbJ"
      },
      "execution_count": null,
      "outputs": []
    },
    {
      "cell_type": "code",
      "source": [
        "cls_pred = np.array([1.0 if p>0.5 else 0.0 for p in y_pred])"
      ],
      "metadata": {
        "id": "_4QASNZ8HZ9r"
      },
      "execution_count": null,
      "outputs": []
    },
    {
      "cell_type": "code",
      "source": [
        "cls_true = np.array(y_test[0:1000])"
      ],
      "metadata": {
        "id": "fhIuYLx7HdN7"
      },
      "execution_count": null,
      "outputs": []
    },
    {
      "cell_type": "code",
      "source": [
        "incorrect = np.where(cls_pred != cls_true)\n",
        "incorrect = incorrect[0]"
      ],
      "metadata": {
        "id": "BkBNN3vZHgyr"
      },
      "execution_count": null,
      "outputs": []
    },
    {
      "cell_type": "code",
      "source": [
        "len(incorrect)"
      ],
      "metadata": {
        "colab": {
          "base_uri": "https://localhost:8080/"
        },
        "id": "tnBOpwJcHjMB",
        "outputId": "b943dfe5-7cad-483a-e7b0-a6b36a659832"
      },
      "execution_count": null,
      "outputs": [
        {
          "output_type": "execute_result",
          "data": {
            "text/plain": [
              "127"
            ]
          },
          "metadata": {},
          "execution_count": 176
        }
      ]
    },
    {
      "cell_type": "code",
      "source": [
        "idx = incorrect[0]\n",
        "idx"
      ],
      "metadata": {
        "id": "OAgvKS_fHlpz",
        "colab": {
          "base_uri": "https://localhost:8080/"
        },
        "outputId": "d0bf32ed-fd7e-497b-f777-9b263c641137"
      },
      "execution_count": null,
      "outputs": [
        {
          "output_type": "execute_result",
          "data": {
            "text/plain": [
              "0"
            ]
          },
          "metadata": {},
          "execution_count": 177
        }
      ]
    },
    {
      "cell_type": "code",
      "source": [
        "text0 = x_test[idx]\n",
        "text0"
      ],
      "metadata": {
        "colab": {
          "base_uri": "https://localhost:8080/",
          "height": 105
        },
        "id": "HMG-7xReHo1f",
        "outputId": "7bf92c82-2b0b-4e57-8a7c-63ee49bae218"
      },
      "execution_count": null,
      "outputs": [
        {
          "output_type": "execute_result",
          "data": {
            "text/plain": [
              "\"This movie was a major bait and switch. I rented it because of Rebecca St. James, a popular Christian singer. I have met her and wondered what she would be doing in a UFO movie. Well.......I think that she starred in this movie to help out a friend, or a friend of a friend. My first clue that this movie wasn't what it was supposed to be was when I witnessed the special effects of the UFO encounters. Cheesy! As the movie progressed, I noticed how plastic the actors were. It was funny how almost everyone in the movie wore solid colors. (There are a few exceptions).Rebecca was verrryyy disappointing. She is always found in the house and doesn't show the realistic facial expressions of one whose husband has return to the fold. Doesn't she ever leave the house? I had to turn off the movie several times in order to finish it. I hope that Rebecca doesn't believe the message of this movie - believe in what we believe or suffer and go to hell. Jesus spread a message of love and hope. His message inspired others to change OUT OF LOVE, NOT FEAR.\""
            ],
            "application/vnd.google.colaboratory.intrinsic+json": {
              "type": "string"
            }
          },
          "metadata": {},
          "execution_count": 178
        }
      ]
    },
    {
      "cell_type": "code",
      "source": [
        "y_pred[idx]"
      ],
      "metadata": {
        "colab": {
          "base_uri": "https://localhost:8080/"
        },
        "id": "5qpNhdNKHu50",
        "outputId": "3d003b2a-995a-471e-bb6f-e08fe2bb1a9b"
      },
      "execution_count": null,
      "outputs": [
        {
          "output_type": "execute_result",
          "data": {
            "text/plain": [
              "0.9440327"
            ]
          },
          "metadata": {},
          "execution_count": 179
        }
      ]
    },
    {
      "cell_type": "code",
      "source": [
        "cls_true[idx]"
      ],
      "metadata": {
        "colab": {
          "base_uri": "https://localhost:8080/"
        },
        "id": "S4-7pMxkHx4y",
        "outputId": "8368ec9e-5763-4f79-b912-a86a366eb6bc"
      },
      "execution_count": null,
      "outputs": [
        {
          "output_type": "execute_result",
          "data": {
            "text/plain": [
              "0"
            ]
          },
          "metadata": {},
          "execution_count": 180
        }
      ]
    },
    {
      "cell_type": "code",
      "source": [
        "text1 = \" A thrilling masterpiece worth the long run time even better in IMAX! Important to note Rip Lance Reddick he was amazing in his career!\"\n",
        "text2 = \"Hands down the best action movie franchise ever.\"\n",
        "text3 = \"John Wick: Chapter 4 offered me 169 minutes of pure entertainment with an exciting cast of characters and action sequences that'll impress anyone, a perfect action film\"\n",
        "text4 = \"Bad acting, bad casting, bad adaptation. Do not watch this if you enjoyed the book. From start to finish it's bad, there's no redeeming qualities to this film! Parker looks about 50. The twins, yes fraternal but one looks 10 years older. One of the reasons Travis was interested in Abby was her not being interested in him, yet she seems to pine after him. Their relationship is not believable. You don't get the idea that Travis sleeps around with everyone and makes a change for her. I cannot believe how bad this film is. The actors are awful, not casted well at all and the acting is atrocious. Disappointed from start to finish.\"\n",
        "text5 = \"This movie was nothing like the book, except for the character's names. The acting was atrocious and there was barely any chemistry...I came for the steam, but there is no water in my iron, so everything came out forced. I did not believe him as a fighter, so every scene he fought in made me laugh...his one liners made him seem more Spiderman than a brawler. Her gambling scene seemed more juvenile than something that would happen in real life. There was some funny moments but at one point I was wondering if I was laughing because it was funny or because it was sad.\"\n",
        "text6 = \"I'm a huge fan of the book. I was so excited when the movie was announced. Man, did the screenwriter even read the book? This is the biggest jumbled mess of crap! The dialogue is cringe worthy. The movie felt so rushed...I couldn't root for them as a couple. They left out so many potential scenes. The acting is over the top and cheesy. The actress playing Abby was so bad! I was hesitant of Dylan playing the part at first...but I will say that I was pleasantly surprised with him. He handled the fight scenes perfectly! As for the actors playing his brothers? No on ALL counts! What a way to ruin a book! When they say the book was better...they are right! Don't waste your time!\"\n",
        "text7 = \"It all leads back to where we once started off as all great trilogies have indicated from the past. But GOTG surpasses expectations with what is nothing short of phenomenal performances by the cast and truly well written and does not shy away from what could only be understood from what requires a sense of maturity to understand. Rockets back story alone is on occasion dark and incredibly sad it had me in tears at a few instances during the film. Honestly I did not expect this, James Gunn yet again provides an absolutely beautiful piece of cinematography and I have to say I really hope in the future they dive back into the story of the colony . With Adam warlock finally in the MCU it's most likely there will be some cameos. But it does deliver in the traditional guardians humor but this film is meant about more for the mature audience of marvel. Trust me this is a great film.\"\n",
        "text8 = \"This. This is what I've wanted. Yeah some of the jokes are a bit too silly and the tone is a bit confusing at times. But the end result for me is probably the most heartfelt emotional reaction from me to a comic book movie since Endgame. It's not a perfect film, I am conflicted with what the did with Adam Warlock. And the main villain is a little hammy. But the personal relationship between the guardians and where they take them is dark, heartbreaking, and also beautiful. This is also the best performance from Chris Pratt probably his entire time playing this character. But the person who steals the show is Rocket. I don't know how but they need to change the rules degree voice acting performances can be nominated for Oscars because it was incredible. This is the most emotionally satisfying experience I've had with the MCU in a very long time. And every critic who is saying that the movie is too schmaltzy or sappy... doesn't understand how much these characters not only mean to people but also James Gunn. This isn't just a final chapter of a story, it's a goodbye to a set of characters and films that changed the landscape of not only the tone and vibe of superhero movies but also changed the fact that weird unknown characters who have strange stories can be highlighted in these films.\"\n",
        "text9 = \"I think for what this movie sets out to do, Super Mario Bros. Movie pretty much ticks the boxes of an entertaining, reference fan-service heavy movie. A lot of the jokes are basic sure, but it's just impressive that there is some competency to a Video Game Movie. Sometimes simple and straightforward is the best way to go. Not high art or anything, but it ticks off almost everything for what Mario should be at least. Voice acting wasn't as bad as I thought, and Jack Black was the highlight as expected. Yeah, not gonna win any big awards but judge it for what it is, and yeah by Video Game Movie standards it's one of the best ones easily if you ask me.\"\n",
        "text10 = \"The story was simple, but worked wonders with the excellent characters that perfectly reflected their game counterparts. They even had unique aspects given to them that helped them stand out in all the right ways. The action was phenomenal with great depth and detail that shows how much work was put into this. There were so many nods and references to other classic Nintendo properties that you'd want to go back to find them all. And Charles Martinet is in this with a small but great role. But with all that said, it does mess up its flow with some of the music. Definitely not the original score though, since it mixes the classic music with an epic and emotional tone. But the copyrighted music Illumination probably payed a third of their budget for felt out of place in this film and took me out of the experience a couple times. Other than that, it's an amazing that I'll gladly watch again.\"\n",
        "texts = [text1, text2, text3, text4, text5, text6, text7, text8, text9, text10]"
      ],
      "metadata": {
        "id": "5iDKSvigLu7V"
      },
      "execution_count": null,
      "outputs": []
    },
    {
      "cell_type": "code",
      "source": [
        "tokens = tokenizer.texts_to_sequences(texts)"
      ],
      "metadata": {
        "id": "pjxYYCWYNhc0"
      },
      "execution_count": null,
      "outputs": []
    },
    {
      "cell_type": "code",
      "source": [
        "tokens_pad = pad_sequences(tokens, maxlen=max_tokens)\n",
        "tokens_pad.shape"
      ],
      "metadata": {
        "colab": {
          "base_uri": "https://localhost:8080/"
        },
        "id": "hDG4YcooNj51",
        "outputId": "8e5ad0af-c8e9-4026-f3b1-e00267d2f043"
      },
      "execution_count": null,
      "outputs": [
        {
          "output_type": "execute_result",
          "data": {
            "text/plain": [
              "(10, 533)"
            ]
          },
          "metadata": {},
          "execution_count": 187
        }
      ]
    },
    {
      "cell_type": "code",
      "source": [
        "model.predict(tokens_pad)"
      ],
      "metadata": {
        "id": "sPYtA61wNmdW",
        "outputId": "8e09c06b-b533-43e9-ef4e-7ed4ce645a65",
        "colab": {
          "base_uri": "https://localhost:8080/"
        }
      },
      "execution_count": null,
      "outputs": [
        {
          "output_type": "execute_result",
          "data": {
            "text/plain": [
              "array([[0.89164174],\n",
              "       [0.50121   ],\n",
              "       [0.6166402 ],\n",
              "       [0.03234053],\n",
              "       [0.07595197],\n",
              "       [0.0389641 ],\n",
              "       [0.962625  ],\n",
              "       [0.86469615],\n",
              "       [0.36488223],\n",
              "       [0.96354073]], dtype=float32)"
            ]
          },
          "metadata": {},
          "execution_count": 188
        }
      ]
    }
  ]
}